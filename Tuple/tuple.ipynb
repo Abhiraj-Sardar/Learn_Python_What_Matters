{
 "cells": [
  {
   "cell_type": "code",
   "execution_count": 1,
   "id": "f56648bc-7f38-4dcf-a023-98dfb003186e",
   "metadata": {},
   "outputs": [],
   "source": [
    "# Tuples : ordered, immutable, allows duplicate values"
   ]
  },
  {
   "cell_type": "code",
   "execution_count": 2,
   "id": "21c36165-b70c-4d11-92fe-768915ceea20",
   "metadata": {},
   "outputs": [],
   "source": [
    "# Tuples may be constructed in a number of ways:"
   ]
  },
  {
   "cell_type": "code",
   "execution_count": 3,
   "id": "e9c37cd0-5bef-4ac2-91d1-30af17d07360",
   "metadata": {},
   "outputs": [
    {
     "name": "stdout",
     "output_type": "stream",
     "text": [
      "Type: <class 'tuple'>, myTuple: ()\n"
     ]
    }
   ],
   "source": [
    "# Using a pair of parentheses to denote the empty tuple: ()\n",
    "myTuple = ()\n",
    "print(f\"Type: {type(myTuple)}, myTuple: {myTuple}\")"
   ]
  },
  {
   "cell_type": "code",
   "execution_count": 4,
   "id": "a3471ff0-796d-498f-baa0-0ea38de46da5",
   "metadata": {},
   "outputs": [
    {
     "name": "stdout",
     "output_type": "stream",
     "text": [
      "Type: <class 'tuple'>, myTuple: ('a',)\n"
     ]
    }
   ],
   "source": [
    "# Using a trailing comma for a singleton tuple: a, or (a,)\n",
    "myTuple = ('a',)\n",
    "print(f\"Type: {type(myTuple)}, myTuple: {myTuple}\")"
   ]
  },
  {
   "cell_type": "code",
   "execution_count": 5,
   "id": "3bd1ab8a-47ac-466c-b3ea-863f7f20749a",
   "metadata": {},
   "outputs": [
    {
     "name": "stdout",
     "output_type": "stream",
     "text": [
      "Type: <class 'tuple'>, myTuple: ('a', 'b', 'c')\n",
      "Type: <class 'tuple'>, myTuple: ('a', 'b', 'c')\n"
     ]
    }
   ],
   "source": [
    "# Separating items with commas: a, b, c or (a, b, c)\n",
    "myTuple = 'a','b','c'\n",
    "print(f\"Type: {type(myTuple)}, myTuple: {myTuple}\")\n",
    "\n",
    "myTuple = ('a','b','c')\n",
    "print(f\"Type: {type(myTuple)}, myTuple: {myTuple}\")"
   ]
  },
  {
   "cell_type": "code",
   "execution_count": 6,
   "id": "9958de64-b4b2-4948-b996-785c3f43122a",
   "metadata": {},
   "outputs": [
    {
     "name": "stdout",
     "output_type": "stream",
     "text": [
      "myTuple: ('a', 'b', 'b', 'c')\n"
     ]
    }
   ],
   "source": [
    "# Tuple allows duplicate values\n",
    "myTuple = ('a','b','b','c')\n",
    "print(f\"myTuple: {myTuple}\")"
   ]
  },
  {
   "cell_type": "code",
   "execution_count": 7,
   "id": "b7b9ff4b-7ba6-45c2-b256-6616588128cc",
   "metadata": {},
   "outputs": [],
   "source": [
    "# Using the tuple() built-in: tuple() or tuple(iterable)"
   ]
  },
  {
   "cell_type": "code",
   "execution_count": 8,
   "id": "3cb329fa",
   "metadata": {},
   "outputs": [
    {
     "name": "stdout",
     "output_type": "stream",
     "text": [
      "Type: <class 'tuple'>, myTuple: ()\n"
     ]
    }
   ],
   "source": [
    "# tuple() - to create a new tupple\n",
    "# with no argument, tuple() creates an empty tuple\n",
    "\n",
    "myTuple = tuple()\n",
    "print(f\"Type: {type(myTuple)}, myTuple: {myTuple}\")"
   ]
  },
  {
   "cell_type": "code",
   "execution_count": 9,
   "id": "d6d05439",
   "metadata": {},
   "outputs": [
    {
     "name": "stdout",
     "output_type": "stream",
     "text": [
      "Type: <class 'tuple'>, myTuple: ('m', 'c', 'a')\n"
     ]
    }
   ],
   "source": [
    "\"\"\"\n",
    "if the argument is a sequence, \n",
    "the result of the call to tuple is a tuple \n",
    "with the elements of the sequence\n",
    "\"\"\"\n",
    "myTuple = tuple(\"mca\")\n",
    "print(f\"Type: {type(myTuple)}, myTuple: {myTuple}\")"
   ]
  },
  {
   "cell_type": "code",
   "execution_count": 10,
   "id": "e508ae88",
   "metadata": {},
   "outputs": [
    {
     "name": "stdout",
     "output_type": "stream",
     "text": [
      "Type: <class 'tuple'> myTuple: ('bca', 'mca')\n"
     ]
    }
   ],
   "source": [
    "myTuple = tuple([\"bca\",\"mca\"])\n",
    "print(f\"Type: {type(myTuple)} myTuple: {myTuple}\")"
   ]
  },
  {
   "cell_type": "code",
   "execution_count": 11,
   "id": "d4ef71b0",
   "metadata": {},
   "outputs": [
    {
     "name": "stdout",
     "output_type": "stream",
     "text": [
      "Type: <class 'tuple'>, myTuple: ('bca', 'mca')\n"
     ]
    }
   ],
   "source": [
    "myTuple = tuple((\"bca\",\"mca\"))\n",
    "print(f\"Type: {type(myTuple)}, myTuple: {myTuple}\")"
   ]
  },
  {
   "cell_type": "code",
   "execution_count": 12,
   "id": "4bf1200f",
   "metadata": {},
   "outputs": [
    {
     "name": "stdout",
     "output_type": "stream",
     "text": [
      "((5, 'Animesh', 'mca'), (97, 90, 73, 85))\n"
     ]
    }
   ],
   "source": [
    "# Tuples may be nested\n",
    "\n",
    "student = 5,'Animesh','mca'\n",
    "studentMarks = student,(97,90,73,85)\n",
    "print(studentMarks)"
   ]
  },
  {
   "cell_type": "code",
   "execution_count": 13,
   "id": "1b19c108",
   "metadata": {},
   "outputs": [
    {
     "name": "stdout",
     "output_type": "stream",
     "text": [
      "4\n",
      "0\n"
     ]
    }
   ],
   "source": [
    "# len(tuple) - number of itemts in the tuple\n",
    "\n",
    "courses = (\"bca\",\"mca\",\"btech\",\"bsc\")\n",
    "print(len(courses))\n",
    "t = tuple()\n",
    "print(len(t))"
   ]
  },
  {
   "cell_type": "code",
   "execution_count": 14,
   "id": "de7310db",
   "metadata": {},
   "outputs": [],
   "source": [
    "# like list, \n",
    "# tuple items can be accessed by referring to the index number within square brackets\n",
    "# slicing selects a range of items of the tuple\n",
    "# membership of an element can be checked with 'in' or 'not in'\n",
    "# loops like for and while work on a tuple\n",
    "# concatenation with + and duplication with * works on tuple"
   ]
  },
  {
   "cell_type": "code",
   "execution_count": 15,
   "id": "09659137",
   "metadata": {},
   "outputs": [
    {
     "ename": "TypeError",
     "evalue": "'tuple' object does not support item assignment",
     "output_type": "error",
     "traceback": [
      "\u001b[1;31m---------------------------------------------------------------------------\u001b[0m",
      "\u001b[1;31mTypeError\u001b[0m                                 Traceback (most recent call last)",
      "Cell \u001b[1;32mIn[15], line 5\u001b[0m\n\u001b[0;32m      1\u001b[0m \u001b[38;5;66;03m# tuples are immutable; Once a tuple is created, \u001b[39;00m\n\u001b[0;32m      2\u001b[0m \u001b[38;5;66;03m# its individual values cannot be changed\u001b[39;00m\n\u001b[0;32m      4\u001b[0m myTuple \u001b[38;5;241m=\u001b[39m \u001b[38;5;124m'\u001b[39m\u001b[38;5;124ma\u001b[39m\u001b[38;5;124m'\u001b[39m,\u001b[38;5;124m'\u001b[39m\u001b[38;5;124mb\u001b[39m\u001b[38;5;124m'\u001b[39m,\u001b[38;5;124m'\u001b[39m\u001b[38;5;124mc\u001b[39m\u001b[38;5;124m'\u001b[39m,\u001b[38;5;124m'\u001b[39m\u001b[38;5;124md\u001b[39m\u001b[38;5;124m'\u001b[39m\n\u001b[1;32m----> 5\u001b[0m myTuple[\u001b[38;5;241m0\u001b[39m] \u001b[38;5;241m=\u001b[39m \u001b[38;5;124m'\u001b[39m\u001b[38;5;124mA\u001b[39m\u001b[38;5;124m'\u001b[39m\n",
      "\u001b[1;31mTypeError\u001b[0m: 'tuple' object does not support item assignment"
     ]
    }
   ],
   "source": [
    "# tuples are immutable; Once a tuple is created, \n",
    "# its individual values cannot be changed\n",
    "\n",
    "myTuple = 'a','b','c','d'\n",
    "myTuple[0] = 'A'"
   ]
  },
  {
   "cell_type": "code",
   "execution_count": 16,
   "id": "e5355f17",
   "metadata": {},
   "outputs": [
    {
     "name": "stdout",
     "output_type": "stream",
     "text": [
      "Type: <class 'tuple'>, myTuple: ('A', 'b', 'c', 'd')\n"
     ]
    }
   ],
   "source": [
    "# tuples are immutable; Once a tuple is created, \n",
    "# its individual values cannot be changed\n",
    "# Workaround 1: replace one tuple with another\n",
    "\n",
    "myTuple = 'a','b','c','d'\n",
    "\n",
    "myTuple = ('A',) + myTuple[1:]\n",
    "\n",
    "print(f\"Type: {type(myTuple)}, myTuple: {myTuple}\")"
   ]
  },
  {
   "cell_type": "code",
   "execution_count": 17,
   "id": "d038a779",
   "metadata": {},
   "outputs": [
    {
     "name": "stdout",
     "output_type": "stream",
     "text": [
      "Type: <class 'tuple'>, myTuple: ('A', 'b', 'c', 'd')\n"
     ]
    }
   ],
   "source": [
    "# tuples are immutable; Once a tuple is created, \n",
    "# its individual values cannot be changed\n",
    "# Workaround 2: convert the tuple into a list, \n",
    "# change the list, and convert the list back into a tuple\n",
    "\n",
    "myTuple = 'a','b','c','d'\n",
    "\n",
    "myList = list(myTuple)\n",
    "myList[0] = 'A'\n",
    "myTuple = tuple(myList)\n",
    "\n",
    "print(f\"Type: {type(myTuple)}, myTuple: {myTuple}\")"
   ]
  },
  {
   "cell_type": "code",
   "execution_count": 18,
   "id": "2e861252",
   "metadata": {},
   "outputs": [
    {
     "data": {
      "text/plain": [
       "(1, 2, [3, 4, 5], 6)"
      ]
     },
     "execution_count": 18,
     "metadata": {},
     "output_type": "execute_result"
    }
   ],
   "source": [
    "# It is not possible to assign to the individual items of a tuple, \n",
    "# however it is possible to create tuples which contain \n",
    "# mutable objects, such as lists.\n",
    "\n",
    "t = 1,2,[3, 4, 5],6\n",
    "t"
   ]
  },
  {
   "cell_type": "code",
   "execution_count": 19,
   "id": "221a65a1",
   "metadata": {},
   "outputs": [
    {
     "ename": "TypeError",
     "evalue": "'tuple' object does not support item assignment",
     "output_type": "error",
     "traceback": [
      "\u001b[1;31m---------------------------------------------------------------------------\u001b[0m",
      "\u001b[1;31mTypeError\u001b[0m                                 Traceback (most recent call last)",
      "Cell \u001b[1;32mIn[19], line 3\u001b[0m\n\u001b[0;32m      1\u001b[0m \u001b[38;5;66;03m# It is not possible to assign to the individual items of a tuple \u001b[39;00m\n\u001b[0;32m      2\u001b[0m t \u001b[38;5;241m=\u001b[39m \u001b[38;5;241m1\u001b[39m,\u001b[38;5;241m2\u001b[39m,[\u001b[38;5;241m3\u001b[39m, \u001b[38;5;241m4\u001b[39m, \u001b[38;5;241m5\u001b[39m],\u001b[38;5;241m6\u001b[39m\n\u001b[1;32m----> 3\u001b[0m t[\u001b[38;5;241m2\u001b[39m] \u001b[38;5;241m=\u001b[39m [\u001b[38;5;241m9\u001b[39m, \u001b[38;5;241m10\u001b[39m]\n",
      "\u001b[1;31mTypeError\u001b[0m: 'tuple' object does not support item assignment"
     ]
    }
   ],
   "source": [
    "# It is not possible to assign to the individual items of a tuple \n",
    "t = 1,2,[3, 4, 5],6\n",
    "t[2] = [9, 10]"
   ]
  },
  {
   "cell_type": "code",
   "execution_count": 20,
   "id": "ed34c519",
   "metadata": {},
   "outputs": [
    {
     "data": {
      "text/plain": [
       "(1, 2, [3, 44, 5], 6)"
      ]
     },
     "execution_count": 20,
     "metadata": {},
     "output_type": "execute_result"
    }
   ],
   "source": [
    "# But the elements of the mutable list inside the tuple can be changed\n",
    "t = 1,2,[3,4,5],6\n",
    "t[2][1] = 44\n",
    "t"
   ]
  },
  {
   "cell_type": "code",
   "execution_count": 21,
   "id": "47644cd9",
   "metadata": {},
   "outputs": [
    {
     "ename": "NameError",
     "evalue": "name 'myTuple' is not defined",
     "output_type": "error",
     "traceback": [
      "\u001b[1;31m---------------------------------------------------------------------------\u001b[0m",
      "\u001b[1;31mNameError\u001b[0m                                 Traceback (most recent call last)",
      "Cell \u001b[1;32mIn[21], line 5\u001b[0m\n\u001b[0;32m      3\u001b[0m myTuple \u001b[38;5;241m=\u001b[39m \u001b[38;5;124m'\u001b[39m\u001b[38;5;124ma\u001b[39m\u001b[38;5;124m'\u001b[39m,\u001b[38;5;124m'\u001b[39m\u001b[38;5;124mb\u001b[39m\u001b[38;5;124m'\u001b[39m,\u001b[38;5;124m'\u001b[39m\u001b[38;5;124mc\u001b[39m\u001b[38;5;124m'\u001b[39m,\u001b[38;5;124m'\u001b[39m\u001b[38;5;124md\u001b[39m\u001b[38;5;124m'\u001b[39m\n\u001b[0;32m      4\u001b[0m \u001b[38;5;28;01mdel\u001b[39;00m myTuple\n\u001b[1;32m----> 5\u001b[0m \u001b[38;5;28mprint\u001b[39m(myTuple)\n",
      "\u001b[1;31mNameError\u001b[0m: name 'myTuple' is not defined"
     ]
    }
   ],
   "source": [
    "# delete a tuple\n",
    "\n",
    "myTuple = 'a','b','c','d'\n",
    "del myTuple\n",
    "print(myTuple)"
   ]
  },
  {
   "cell_type": "code",
   "execution_count": 22,
   "id": "cdde9364",
   "metadata": {},
   "outputs": [
    {
     "data": {
      "text/plain": [
       "True"
      ]
     },
     "execution_count": 22,
     "metadata": {},
     "output_type": "execute_result"
    }
   ],
   "source": [
    "# comparing tuples\n",
    "# starts by comparing the first element from each tuple. \n",
    "# if they are equal, goes on to check the next element, \n",
    "# and so on, until elements are found which differ. \n",
    "\n",
    "(1,2,3) < (1,3,1)"
   ]
  },
  {
   "cell_type": "code",
   "execution_count": 23,
   "id": "425f014d",
   "metadata": {},
   "outputs": [
    {
     "data": {
      "text/plain": [
       "True"
      ]
     },
     "execution_count": 23,
     "metadata": {},
     "output_type": "execute_result"
    }
   ],
   "source": [
    "(0,100,1000) < (1,0,0)"
   ]
  },
  {
   "cell_type": "code",
   "execution_count": 24,
   "id": "159d6fe7",
   "metadata": {},
   "outputs": [
    {
     "name": "stdout",
     "output_type": "stream",
     "text": [
      "roll: 5, name: Animesh, degree: mca\n"
     ]
    }
   ],
   "source": [
    "# unpack tuples - extract values to variables\n",
    "# unpacking requires that there are as many variables\n",
    "# on the left side of the equal sign as there are elements in the tuple.\n",
    "\n",
    "student = (5,'Animesh','mca') # packing\n",
    "\n",
    "roll,name,degree = student  # unpacking\n",
    "\n",
    "print(f\"roll: {roll}, name: {name}, degree: {degree}\")"
   ]
  },
  {
   "cell_type": "code",
   "execution_count": 25,
   "id": "bcb170e4",
   "metadata": {},
   "outputs": [
    {
     "name": "stdout",
     "output_type": "stream",
     "text": [
      "ug: bca, pg: ['mca', 'msc', 'mcom'], other: diploma\n"
     ]
    }
   ],
   "source": [
    "courses = ('bca','mca','msc','mcom','diploma')\n",
    "\n",
    "(ug,*pg,other) = courses\n",
    "\n",
    "print(f\"ug: {ug}, pg: {pg}, other: {other}\")"
   ]
  },
  {
   "cell_type": "code",
   "execution_count": 26,
   "id": "2447b116",
   "metadata": {},
   "outputs": [
    {
     "name": "stdout",
     "output_type": "stream",
     "text": [
      "mca.students\n",
      "heritageit.edu\n",
      "1 2 3\n"
     ]
    }
   ],
   "source": [
    "# the right side can be any kind of sequence\n",
    "\n",
    "email_id = 'mca.students@heritageit.edu'\n",
    "uname,domain = email_id.split('@')\n",
    "a,b,c = [1,2,3]\n",
    "print(uname)\n",
    "print(domain)\n",
    "print(a,b,c)"
   ]
  },
  {
   "cell_type": "code",
   "execution_count": 27,
   "id": "db75a588",
   "metadata": {},
   "outputs": [
    {
     "name": "stdout",
     "output_type": "stream",
     "text": [
      "['__add__', '__class__', '__class_getitem__', '__contains__', '__delattr__', '__dir__', '__doc__', '__eq__', '__format__', '__ge__', '__getattribute__', '__getitem__', '__getnewargs__', '__getstate__', '__gt__', '__hash__', '__init__', '__init_subclass__', '__iter__', '__le__', '__len__', '__lt__', '__mul__', '__ne__', '__new__', '__reduce__', '__reduce_ex__', '__repr__', '__rmul__', '__setattr__', '__sizeof__', '__str__', '__subclasshook__', 'count', 'index']\n"
     ]
    }
   ],
   "source": [
    "print(dir(tuple))"
   ]
  },
  {
   "cell_type": "code",
   "execution_count": 28,
   "id": "8f7ee885",
   "metadata": {},
   "outputs": [
    {
     "name": "stdout",
     "output_type": "stream",
     "text": [
      "Help on method_descriptor:\n",
      "\n",
      "count(self, value, /)\n",
      "    Return number of occurrences of value.\n",
      "\n"
     ]
    }
   ],
   "source": [
    "help(tuple.count)"
   ]
  },
  {
   "cell_type": "code",
   "execution_count": 29,
   "id": "619333af",
   "metadata": {},
   "outputs": [
    {
     "name": "stdout",
     "output_type": "stream",
     "text": [
      "3\n"
     ]
    }
   ],
   "source": [
    "# count() method returns the number of times a specified value appears in the tuple.\n",
    "\n",
    "t = (5,6,7,4,7,4,4,5,8,5)\n",
    "n = t.count(5)\n",
    "print(n)"
   ]
  },
  {
   "cell_type": "code",
   "execution_count": 30,
   "id": "df01f4b7",
   "metadata": {},
   "outputs": [
    {
     "name": "stdout",
     "output_type": "stream",
     "text": [
      "Help on method_descriptor:\n",
      "\n",
      "index(self, value, start=0, stop=9223372036854775807, /)\n",
      "    Return first index of value.\n",
      "    \n",
      "    Raises ValueError if the value is not present.\n",
      "\n"
     ]
    }
   ],
   "source": [
    "help(tuple.index)"
   ]
  },
  {
   "cell_type": "code",
   "execution_count": 31,
   "id": "6190d3f5",
   "metadata": {},
   "outputs": [
    {
     "name": "stdout",
     "output_type": "stream",
     "text": [
      "2\n"
     ]
    }
   ],
   "source": [
    "# index() method finds the first occurrence of the specified value\n",
    "# raises an exception if the value is not found\n",
    "\n",
    "t = (5,6,7,4,7,4,4,5,8,5)\n",
    "n = t.index(7)\n",
    "print(n)"
   ]
  },
  {
   "cell_type": "code",
   "execution_count": 32,
   "id": "50fe3e9c",
   "metadata": {},
   "outputs": [
    {
     "name": "stdout",
     "output_type": "stream",
     "text": [
      "Adnan is 25 years old and works as Programmer.\n",
      "Swati is 27 years old and works as DBA.\n",
      "Anand is 26 years old and works as Tester.\n"
     ]
    }
   ],
   "source": [
    "# Given a list of tuples, each containing name, age, and profession, \n",
    "# generate strings of English sentences as \n",
    "# \"Name is X years old and works as Y.\" for each one.\n",
    "# Sample Input: [('Adnan', 25, \"Programmer\"), (\"Swati\", 27, 'DBA'), ('Anand', 26, \"Tester\")] \n",
    "# Output: Adnan is 25 years old and works as Programmer.\n",
    "# Swati is 27 years old and works as DBA. \n",
    "# Anand is 26 years old and works as Tester.\n",
    "# Roll:58\n",
    "employees = [('Adnan', 25, \"Programmer\"), ('Swati', 27, \"DBA\"), ('Anand', 26, \"Tester\")]\n",
    "for employee in employees:\n",
    "    name,age,role = employee\n",
    "    print(f\"{name} is {age} years old and works as {role}.\")"
   ]
  },
  {
   "cell_type": "code",
   "execution_count": 33,
   "id": "46af7fa4",
   "metadata": {},
   "outputs": [
    {
     "data": {
      "text/plain": [
       "[(2, 4), (5, 25), (1, 1), (4, 16)]"
      ]
     },
     "execution_count": 33,
     "metadata": {},
     "output_type": "execute_result"
    }
   ],
   "source": [
    "# Create a list of tuples from given list of numbers, \n",
    "# with number and its square in each tuple. \n",
    "# Sample Input: [2, 5, 1, 4]\n",
    "# Output: [(2, 4), (5, 25), (1, 1), (4, 16)]\n",
    "# Roll: 36\n",
    "nums = [2,5,1,4]\n",
    "squaredList = []\n",
    "for num in nums:\n",
    "    squaredList.append((num,num**2))\n",
    "squaredList"
   ]
  }
 ],
 "metadata": {
  "kernelspec": {
   "display_name": "Python 3 (ipykernel)",
   "language": "python",
   "name": "python3"
  },
  "language_info": {
   "codemirror_mode": {
    "name": "ipython",
    "version": 3
   },
   "file_extension": ".py",
   "mimetype": "text/x-python",
   "name": "python",
   "nbconvert_exporter": "python",
   "pygments_lexer": "ipython3",
   "version": "3.11.4"
  },
  "toc-autonumbering": true,
  "toc-showmarkdowntxt": true
 },
 "nbformat": 4,
 "nbformat_minor": 5
}
