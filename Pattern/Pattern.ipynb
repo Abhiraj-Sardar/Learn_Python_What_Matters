{
 "cells": [
  {
   "cell_type": "markdown",
   "id": "f4e01601-dc44-4868-b7b8-9354b6121605",
   "metadata": {},
   "source": [
    "# Assignment Day 1\n",
    "\n",
    "Name - Abhiraj Sardar <br/>\n",
    "Roll No - 28"
   ]
  },
  {
   "cell_type": "code",
   "execution_count": 1,
   "id": "927956c9",
   "metadata": {},
   "outputs": [
    {
     "name": "stdin",
     "output_type": "stream",
     "text": [
      "Enter First Number: 5\n",
      "Enter Second Number: 3\n"
     ]
    },
    {
     "name": "stdout",
     "output_type": "stream",
     "text": [
      "The Average of 5 and 3 is 4\n"
     ]
    }
   ],
   "source": [
    "#1)i) Write a script that reads two integers, and prints the average of the two numbers.\n",
    "\n",
    "num1=int(input(\"Enter First Number:\")) #taking first number\n",
    "num2=int(input(\"Enter Second Number:\"))#taking second number\n",
    "\n",
    "avg=(num1+num2)//2 #formula to find the average\n",
    "\n",
    "print(f\"The Average of {num1} and {num2} is {avg}\")"
   ]
  },
  {
   "cell_type": "code",
   "execution_count": 2,
   "id": "5dcb8049",
   "metadata": {},
   "outputs": [
    {
     "name": "stdout",
     "output_type": "stream",
     "text": [
      "5 is greater than 3\n"
     ]
    }
   ],
   "source": [
    "# 1)ii) Modify 1.i) to print the larger of the two numbers.\n",
    "\n",
    "if num1>num2: # checking if num1>num2 or not\n",
    "    print(f\"{num1} is greater than {num2}\") #this statement get printed if num1>num2\n",
    "else:\n",
    "    print(f\"{num2} is greater than {num1}\") #this statement get printed if num2>num1"
   ]
  },
  {
   "cell_type": "code",
   "execution_count": 44,
   "id": "781235a9",
   "metadata": {},
   "outputs": [
    {
     "name": "stdout",
     "output_type": "stream",
     "text": [
      "Enter the first number:12.0\n",
      "Enter the second number:20.0\n",
      "Enter the third number:11.7\n",
      "The Largest number is 20.0 and the smallest number is 11.7\n",
      "The Average of 12.0,20.0 and 11.7 is 14.57\n"
     ]
    }
   ],
   "source": [
    "# 2. Write a script that reads three floating point numbers, and does the following:\n",
    "# i) It prints the smallest and largest among the three.\n",
    "# ii) It prints the average of the three numbers up to 2 decimal places.\n",
    "\n",
    "f1=float(input(\"Enter the first number:\")) #taking the first floating number\n",
    "f2=float(input(\"Enter the second number:\")) #taking the second floating number\n",
    "f3=float(input(\"Enter the third number:\")) #taking the third floating number\n",
    "\n",
    "fAvg=float((f1+f2+f3)/3)\n",
    "floating_avg=round(fAvg,2)\n",
    "\n",
    "#checking for maximum/largest number\n",
    "if f1>f2:\n",
    "    if f1>f3:\n",
    "        maximum=f1 #setting f1 as maximum value\n",
    "    else:\n",
    "        maximum=f3 #setting f3 as maximum value\n",
    "elif f2>f3:\n",
    "    maximum=f2 #setting f2 as maximum value\n",
    "else:\n",
    "    maximum=f3 #setting f3 as maximum value\n",
    "\n",
    "#checking for minimum/smallest number\n",
    "if f1<f2:\n",
    "    if f1<f3:\n",
    "        minimum=f1 #setting f1 as minimum value\n",
    "    else:\n",
    "        minimum=f3 #setting f3 as minimum value\n",
    "elif f2<f3:\n",
    "    minimum=f2 #setting f2 as minimum value\n",
    "else:\n",
    "    minimum=f3 #setting f3 as minimum value\n",
    "    \n",
    "\n",
    "    \n",
    "print(f\"The Largest number is {maximum} and the smallest number is {minimum}\")\n",
    "\n",
    "print(f\"The Average of {f1},{f2} and {f3} is {floating_avg}\")\n"
   ]
  },
  {
   "cell_type": "code",
   "execution_count": 45,
   "id": "3fea8c22",
   "metadata": {},
   "outputs": [
    {
     "name": "stdout",
     "output_type": "stream",
     "text": [
      "Enter a Year:2012\n",
      "2012 is a Leap Year\n"
     ]
    }
   ],
   "source": [
    "# 3. Write a script that prompts the user to input a year and determine whether that year is a leap year or not.\n",
    "\n",
    "year=int(input(\"Enter a Year:\"))\n",
    "\n",
    "if year%400==0:\n",
    "    print(f\"{year} is a Leap Year\")\n",
    "elif year%100==0:\n",
    "    print(f\"{year} is not a Leap Year\")\n",
    "elif year%4==0:\n",
    "    print(f\"{year} is a Leap Year\")\n",
    "else:\n",
    "    print(f\"{year} is not a Leap Year\")"
   ]
  },
  {
   "cell_type": "code",
   "execution_count": 41,
   "id": "95d027fe",
   "metadata": {},
   "outputs": [
    {
     "name": "stdout",
     "output_type": "stream",
     "text": [
      "Enter a Number:1234\n",
      "Total No of Digit: 4\n",
      "Sum of Digit:10\n"
     ]
    }
   ],
   "source": [
    "# 4. Write a Python script that accepts an integer from a user, and prints the number of digits in the\n",
    "#integer and also the sum of the digits of the integer. The script should only do the said calculation\n",
    "# if the input is an integer, else report to the user “Input must be an integer”.\n",
    "\n",
    "import math\n",
    "\n",
    "n=input(\"Enter a Number:\") #getting the vale\n",
    "\n",
    "if n.isnumeric(): #checking the value is numeric or not if it is numeric then we can take it as an integer\n",
    "    n=int(n) #converting n to integer type\n",
    "    tot_digit=int(math.log10(n))+1 #total number of digits count\n",
    "    s=0\n",
    "    while n!=0:\n",
    "        r=n%10 #getting the last value from the number\n",
    "        s+=r  #adding r with the value of s\n",
    "        n//=10 #taking the qutient part of n to discard the last digit\n",
    "    \n",
    "    print(f\"Total No of Digit: {tot_digit}\")\n",
    "    print(f\"Sum of Digit:{s}\")\n",
    "        \n",
    "else:\n",
    "    print(\"Input must be an integer\")"
   ]
  },
  {
   "cell_type": "code",
   "execution_count": 47,
   "id": "2a6064de",
   "metadata": {},
   "outputs": [
    {
     "name": "stdout",
     "output_type": "stream",
     "text": [
      "Enter a Number:123\n",
      "It is not an Armstrong Number\n"
     ]
    }
   ],
   "source": [
    "# 5. Write a Python script that accepts an integer from a user, and checks whether that number is an\n",
    "# Armstrong number or not. [An n-digit Armstrong number is an integer such that the sum of its\n",
    "# digits each raised to the power n is equal to the number itself].\n",
    "\n",
    "def isArmstrong(n):\n",
    "    \n",
    "    cpy=n\n",
    "    noOfDigits=int(math.log10(n))+1\n",
    "    summ=0\n",
    "    while cpy!=0:\n",
    "        last_digit=cpy%10 #getting the last digit from the number\n",
    "        summ+=(last_digit**noOfDigits) #computing the power based on numberof digits and adding it to summ\n",
    "        cpy//=10 #discarding the last value\n",
    "    \n",
    "    return summ==n #checking for equality, it can return true and false after evaluation\n",
    "        \n",
    "n=int(input(\"Enter a Number:\"))\n",
    "\n",
    "if isArmstrong(n): #calling the function isArmstrong\n",
    "    print(\"It is an Armstrong Number\")\n",
    "else:\n",
    "    print(\"It is not an Armstrong Number\")"
   ]
  },
  {
   "cell_type": "code",
   "execution_count": 52,
   "id": "3ae7ff57",
   "metadata": {},
   "outputs": [
    {
     "name": "stdout",
     "output_type": "stream",
     "text": [
      "Enter a Number:496\n",
      "It is a Perfect Number\n"
     ]
    }
   ],
   "source": [
    "# 6. Write a Python script that accepts an integer from a user, and checks whether that number is a\n",
    "# Perfect number or not. [A perfect number is a positive integer that is equal to the sum of its proper\n",
    "# divisors].\n",
    "\n",
    "\n",
    "def isPerfect(n):\n",
    "    s=0\n",
    "    for i in range(1,n):\n",
    "        if n%i==0: #checking if a value can divide n\n",
    "            s=s+i\n",
    "            \n",
    "    return s==n #checking for equality, it can return true and false after evaluation\n",
    "        \n",
    "n=int(input(\"Enter a Number:\"))\n",
    "\n",
    "if isPerfect(n): #calling the function isArmstrong\n",
    "    print(\"It is a Perfect Number\")\n",
    "else:\n",
    "    print(\"It is not a Perfect Number\")\n"
   ]
  },
  {
   "cell_type": "code",
   "execution_count": 1,
   "id": "5ff2d12c",
   "metadata": {},
   "outputs": [
    {
     "name": "stdin",
     "output_type": "stream",
     "text": [
      "Enter the Number of rows: 9\n"
     ]
    },
    {
     "name": "stdout",
     "output_type": "stream",
     "text": [
      "*                 \n",
      "* *               \n",
      "* * *             \n",
      "* * * *           \n",
      "* * * * *         \n",
      "* * * * * *       \n",
      "* * * * * * *     \n",
      "* * * * * * * *   \n",
      "* * * * * * * * * \n"
     ]
    }
   ],
   "source": [
    "# 7. Write scripts to print each of the following output pattern. The number of rows to be printed is to\n",
    "# be accepted as user input. (for the questions 7v to 7xix, the no. of rows given by the user should\n",
    "# be an odd integer; if it’s not, report to the user “Input must be an odd integer”)\n",
    "\n",
    "# i)\n",
    "\n",
    "# *\n",
    "# * *\n",
    "# * * *\n",
    "# * * * *\n",
    "# * * * * *\n",
    "\n",
    "noOfRows=int(input(\"Enter the Number of rows:\"))\n",
    "n=noOfRows-1\n",
    "for i in range(n+1): #traversing the row elements \n",
    "    for j in range(n+1): #traversing the column elements \n",
    "        if i>=j:  #the relation between i and j got by the equation of a straight line\n",
    "            print(\"*\",end=\" \") \n",
    "        else:\n",
    "            print(\" \",end=\" \")\n",
    "    print()"
   ]
  },
  {
   "cell_type": "code",
   "execution_count": 34,
   "id": "6bef079e",
   "metadata": {},
   "outputs": [
    {
     "name": "stdin",
     "output_type": "stream",
     "text": [
      "Enter the Number of rows: 5\n"
     ]
    },
    {
     "name": "stdout",
     "output_type": "stream",
     "text": [
      "* * * * * \n",
      "  * * * * \n",
      "    * * * \n",
      "      * * \n",
      "        * \n"
     ]
    }
   ],
   "source": [
    "# ii)\n",
    "\n",
    "# * * * * * \n",
    "#   * * * * \n",
    "#     * * * \n",
    "#       * * \n",
    "#         *\n",
    "\n",
    "noOfRows=int(input(\"Enter the Number of rows:\"))\n",
    "n=noOfRows-1\n",
    "for i in range(n+1):#traversing the row elements \n",
    "    for j in range(n+1):#traversing the column elements \n",
    "        if i<=j: #the relation between i and j got by the equation of a straight line\n",
    "            print(\"*\",end=\" \")\n",
    "        else:\n",
    "            print(\" \",end=\" \")\n",
    "    print()"
   ]
  },
  {
   "cell_type": "code",
   "execution_count": 35,
   "id": "5318d769",
   "metadata": {},
   "outputs": [
    {
     "name": "stdin",
     "output_type": "stream",
     "text": [
      "Enter the Number of rows: 5\n"
     ]
    },
    {
     "name": "stdout",
     "output_type": "stream",
     "text": [
      "* * * * * \n",
      "* * * *   \n",
      "* * *     \n",
      "* *       \n",
      "*         \n"
     ]
    }
   ],
   "source": [
    "# iii\n",
    "# * * * * * \n",
    "# * * * *   \n",
    "# * * *     \n",
    "# * *       \n",
    "# *  \n",
    "\n",
    "noOfRows=int(input(\"Enter the Number of rows:\"))\n",
    "n=noOfRows-1\n",
    "for i in range(n+1):#traversing the row elements \n",
    "    for j in range(n+1):#traversing the column elements \n",
    "        if i+j<=n:#the relation between i and j got by the equation of a straight line \n",
    "            print(\"*\",end=\" \")\n",
    "        else:\n",
    "            print(\" \",end=\" \")\n",
    "    print()"
   ]
  },
  {
   "cell_type": "code",
   "execution_count": 36,
   "id": "eca3fceb",
   "metadata": {},
   "outputs": [
    {
     "name": "stdin",
     "output_type": "stream",
     "text": [
      "Enter the Number of rows: 5\n"
     ]
    },
    {
     "name": "stdout",
     "output_type": "stream",
     "text": [
      "        * \n",
      "      * * \n",
      "    * * * \n",
      "  * * * * \n",
      "* * * * * \n"
     ]
    }
   ],
   "source": [
    "# iv)\n",
    "#         * \n",
    "#       * * \n",
    "#     * * * \n",
    "#   * * * * \n",
    "# * * * * *\n",
    "\n",
    "noOfRows=int(input(\"Enter the Number of rows:\"))\n",
    "n=noOfRows-1\n",
    "for i in range(n+1):#traversing the row elements \n",
    "    for j in range(n+1):#traversing the column elements \n",
    "        if i+j>=n:#the relation between i and j got by the equation of a straight line \n",
    "            print(\"*\",end=\" \")\n",
    "        else:\n",
    "            print(\" \",end=\" \")\n",
    "    print()"
   ]
  },
  {
   "cell_type": "code",
   "execution_count": 4,
   "id": "1d9248a1",
   "metadata": {},
   "outputs": [
    {
     "name": "stdin",
     "output_type": "stream",
     "text": [
      "Enter the Number of rows: 9\n"
     ]
    },
    {
     "name": "stdout",
     "output_type": "stream",
     "text": [
      "*                 \n",
      "* *               \n",
      "* * *             \n",
      "* * * *           \n",
      "* * * * *         \n",
      "* * * *           \n",
      "* * *             \n",
      "* *               \n",
      "*                 \n"
     ]
    }
   ],
   "source": [
    "# V)\n",
    "\n",
    "# *                 \n",
    "# * *               \n",
    "# * * *             \n",
    "# * * * *           \n",
    "# * * * * *         \n",
    "# * * * *           \n",
    "# * * *             \n",
    "# * *               \n",
    "# *        \n",
    "\n",
    "noOfRows=int(input(\"Enter the Number of rows:\"))\n",
    "\n",
    "if noOfRows%2==0:\n",
    "    print(\"please enter an Odd Number\")\n",
    "else:\n",
    "    n=(noOfRows-1)//2\n",
    "    for i in range(2*n+1):#traversing the row elements \n",
    "        for j in range(2*n+1):#traversing the column elements \n",
    "            if i>=j and i+j<=2*n:#the relation between i and j got by the equation of a straight line \n",
    "                print(\"*\",end=\" \")\n",
    "            else:\n",
    "                print(\" \",end=\" \")\n",
    "        print()"
   ]
  },
  {
   "cell_type": "code",
   "execution_count": 5,
   "id": "242af078",
   "metadata": {},
   "outputs": [
    {
     "name": "stdin",
     "output_type": "stream",
     "text": [
      "Enter the Number of rows: 9\n"
     ]
    },
    {
     "name": "stdout",
     "output_type": "stream",
     "text": [
      "                * \n",
      "              * * \n",
      "            * * * \n",
      "          * * * * \n",
      "        * * * * * \n",
      "          * * * * \n",
      "            * * * \n",
      "              * * \n",
      "                * \n"
     ]
    }
   ],
   "source": [
    "\n",
    "#Vi)\n",
    "        #         * \n",
    "        #       * * \n",
    "        #     * * * \n",
    "        #   * * * * \n",
    "        # * * * * * \n",
    "        #   * * * * \n",
    "        #     * * * \n",
    "        #       * * \n",
    "        #         * \n",
    "noOfRows=int(input(\"Enter the Number of rows:\"))\n",
    "\n",
    "if noOfRows%2==0:\n",
    "    print(\"please enter an Odd Number\")\n",
    "else:\n",
    "    n=(noOfRows-1)//2\n",
    "    for i in range(2*n+1):#traversing the row elements \n",
    "        for j in range(2*n+1):#traversing the column elements \n",
    "            if i<=j and i+j>=2*n:#the relation between i and j got by the equation of a straight line \n",
    "                print(\"*\",end=\" \")\n",
    "            else:\n",
    "                print(\" \",end=\" \")\n",
    "        print()"
   ]
  },
  {
   "cell_type": "code",
   "execution_count": 37,
   "id": "7dc77f63",
   "metadata": {},
   "outputs": [
    {
     "name": "stdin",
     "output_type": "stream",
     "text": [
      "Enter the Number of rows: 5\n"
     ]
    },
    {
     "name": "stdout",
     "output_type": "stream",
     "text": [
      "* * * * * \n",
      "  * * *   \n",
      "    *     \n",
      "          \n",
      "          \n"
     ]
    }
   ],
   "source": [
    "# vii)\n",
    "\n",
    "# * * * * * \n",
    "#   * * *   \n",
    "#     *     \n",
    "          \n",
    "         \n",
    "noOfRows=int(input(\"Enter the Number of rows:\"))\n",
    "\n",
    "if noOfRows%2==0:\n",
    "    print(\"please enter an Odd Number\")\n",
    "else:\n",
    "    n=(noOfRows-1)//2\n",
    "    for i in range(2*n+1):#traversing the row elements \n",
    "        for j in range(2*n+1):#traversing the column elements \n",
    "            if i<=j and i+j<=2*n:#the relation between i and j got by the equation of a straight line \n",
    "                print(\"*\",end=\" \")\n",
    "            else:\n",
    "                print(\" \",end=\" \")\n",
    "        print()"
   ]
  },
  {
   "cell_type": "code",
   "execution_count": 38,
   "id": "cafcf6d3-d57f-4ebe-85fe-0aec758243a4",
   "metadata": {},
   "outputs": [
    {
     "name": "stdin",
     "output_type": "stream",
     "text": [
      "Enter the Number of rows: 7\n"
     ]
    },
    {
     "name": "stdout",
     "output_type": "stream",
     "text": [
      "              \n",
      "              \n",
      "              \n",
      "      *       \n",
      "    * * *     \n",
      "  * * * * *   \n",
      "* * * * * * * \n"
     ]
    }
   ],
   "source": [
    "# viii)\n",
    "\n",
    "#         *         \n",
    "#       * * *       \n",
    "#     * * * * *     \n",
    "#   * * * * * * *   \n",
    "# * * * * * * * * * \n",
    "\n",
    "noOfRows=int(input(\"Enter the Number of rows:\"))\n",
    "\n",
    "if noOfRows%2==0:\n",
    "    print(\"please enter an Odd Number\")\n",
    "else:\n",
    "    n=(noOfRows-1)//2\n",
    "    for i in range(2*n+1):#traversing the row elements \n",
    "        for j in range(2*n+1):#traversing the column elements \n",
    "            if j+i>=2*n and j-i<=0:#the relation between i and j got by the equation of a straight line \n",
    "                print(\"*\",end=\" \")\n",
    "            else:\n",
    "                print(\" \",end=\" \")\n",
    "        print()"
   ]
  },
  {
   "cell_type": "code",
   "execution_count": 39,
   "id": "26b20d2c",
   "metadata": {},
   "outputs": [
    {
     "name": "stdin",
     "output_type": "stream",
     "text": [
      "Enter the Number of rows: 7\n"
     ]
    },
    {
     "name": "stdout",
     "output_type": "stream",
     "text": [
      "*           * \n",
      "* *       * * \n",
      "* * *   * * * \n",
      "* * * * * * * \n",
      "* * *   * * * \n",
      "* *       * * \n",
      "*           * \n"
     ]
    }
   ],
   "source": [
    "# ix)\n",
    "\n",
    "# *           * \n",
    "# * *       * * \n",
    "# * * *   * * * \n",
    "# * * * * * * * \n",
    "# * * *   * * * \n",
    "# * *       * * \n",
    "# *           * \n",
    "\n",
    "noOfRows=int(input(\"Enter the Number of rows:\"))\n",
    "\n",
    "if noOfRows%2==0:\n",
    "    print(\"please enter an Odd Number\")\n",
    "else:\n",
    "    n=(noOfRows-1)//2\n",
    "    for i in range(2*n+1):#traversing the row elements \n",
    "        for j in range(2*n+1):#traversing the column elements \n",
    "            if i>=j and i+j<=2*n or i+j>=2*n and j-i>=0:#the relation between i and j got by the equation of a straight line \n",
    "                print(\"*\",end=\" \")\n",
    "            else:\n",
    "                print(\" \",end=\" \")\n",
    "        print()"
   ]
  },
  {
   "cell_type": "code",
   "execution_count": 348,
   "id": "c6122e2f",
   "metadata": {},
   "outputs": [
    {
     "name": "stdin",
     "output_type": "stream",
     "text": [
      "Enter the Number of rows: 9\n"
     ]
    },
    {
     "name": "stdout",
     "output_type": "stream",
     "text": [
      "* * * * * * * * * \n",
      "  * * * * * * *   \n",
      "    * * * * *     \n",
      "      * * *       \n",
      "        *         \n",
      "      * * *       \n",
      "    * * * * *     \n",
      "  * * * * * * *   \n",
      "* * * * * * * * * \n"
     ]
    }
   ],
   "source": [
    "# x)\n",
    "\n",
    "# * * * * * * * * * \n",
    "#   * * * * * * *   \n",
    "#     * * * * *     \n",
    "#       * * *       \n",
    "#         *         \n",
    "#       * * *       \n",
    "#     * * * * *     \n",
    "#   * * * * * * *   \n",
    "# * * * * * * * * * \n",
    "\n",
    "noOfRows=int(input(\"Enter the Number of rows:\"))\n",
    "\n",
    "if noOfRows%2==0:\n",
    "    print(\"please enter an Odd Number\")\n",
    "else:\n",
    "    n=(noOfRows-1)//2\n",
    "    for i in range(2*n+1):#traversing the row elements \n",
    "        for j in range(2*n+1):#traversing the column elements \n",
    "            if i<=j and i+j<=2*n or i+j>=2*n and j-i<=0:#the relation between i and j got by the equation of a straight line \n",
    "                print(\"*\",end=\" \")\n",
    "            else:\n",
    "                print(\" \",end=\" \")\n",
    "        print()\n"
   ]
  },
  {
   "cell_type": "code",
   "execution_count": 260,
   "id": "1cc45755",
   "metadata": {},
   "outputs": [
    {
     "name": "stdin",
     "output_type": "stream",
     "text": [
      "Enter the Number of Rows: 9\n"
     ]
    },
    {
     "name": "stdout",
     "output_type": "stream",
     "text": [
      "        *         \n",
      "      * * *       \n",
      "    * * * * *     \n",
      "  * * * * * * *   \n",
      "* * * * * * * * * \n",
      "  * * * * * * *   \n",
      "    * * * * *     \n",
      "      * * *       \n",
      "        *         \n"
     ]
    }
   ],
   "source": [
    "# xi)\n",
    "\n",
    "#         *         \n",
    "#       * * *       \n",
    "#     * * * * *     \n",
    "#   * * * * * * *   \n",
    "# * * * * * * * * * \n",
    "#   * * * * * * *   \n",
    "#     * * * * *     \n",
    "#       * * *       \n",
    "#         *         \n",
    "noOfRows=int(input(\"Enter the Number of Rows:\"))\n",
    "if noOfRows%2==0:\n",
    "    print(\"please enter an Odd Number\")\n",
    "else:\n",
    "    n=(noOfRows-1)//2\n",
    "    for i in range(2*n+1):#traversing the row elements \n",
    "        for j in range(2*n+1):#traversing the column elements \n",
    "            if (i+j>=n and i<=n and j<=n) or (j-i<=n and i<=n and j>=n) or (i-j<=n and i>=n and j<=n) or (j+i<=3*n and i>=n and j>=n): #the relation between i and j got by the equation of a straight line\n",
    "                print(\"*\",end=\" \")\n",
    "            else:\n",
    "                print(\" \",end=\" \")\n",
    "        print()"
   ]
  },
  {
   "cell_type": "code",
   "execution_count": 40,
   "id": "d739c4c8-5fbf-4d42-a7a9-206ff6b92a18",
   "metadata": {},
   "outputs": [
    {
     "name": "stdin",
     "output_type": "stream",
     "text": [
      "Enter the Number of Rows: 7\n"
     ]
    },
    {
     "name": "stdout",
     "output_type": "stream",
     "text": [
      "* * * * * * * \n",
      "* * *   * * * \n",
      "* *       * * \n",
      "*           * \n",
      "* *       * * \n",
      "* * *   * * * \n",
      "* * * * * * * \n"
     ]
    }
   ],
   "source": [
    "# xii\n",
    "\n",
    "# * * * * * * * \n",
    "# * * *   * * * \n",
    "# * *       * * \n",
    "# *           * \n",
    "# * *       * * \n",
    "# * * *   * * * \n",
    "# * * * * * * * \n",
    "\n",
    "noOfRows=int(input(\"Enter the Number of Rows:\"))\n",
    "if noOfRows%2==0:\n",
    "    print(\"please enter an Odd Number\")\n",
    "else:\n",
    "    n=(noOfRows-1)//2\n",
    "    for i in range(2*n+1):#traversing the row elements \n",
    "        for j in range(2*n+1):#traversing the column elements \n",
    "            if (i+j<=n) or (j-i>=n) or (i-j>=n) or (j+i>=3*n): #the relation between i and j got by the equation of a straight line\n",
    "                print(\"*\",end=\" \")\n",
    "            else:\n",
    "                print(\" \",end=\" \")\n",
    "        print()"
   ]
  },
  {
   "cell_type": "code",
   "execution_count": 145,
   "id": "0b40e408-d129-4258-bc3e-c4408daadcaf",
   "metadata": {},
   "outputs": [
    {
     "name": "stdin",
     "output_type": "stream",
     "text": [
      "Enter the Number of Rows: 9\n"
     ]
    },
    {
     "name": "stdout",
     "output_type": "stream",
     "text": [
      "        *         \n",
      "      * *         \n",
      "    * * *         \n",
      "  * * * *         \n",
      "* * * * * * * * * \n",
      "        * * * *   \n",
      "        * * *     \n",
      "        * *       \n",
      "        *         \n"
     ]
    }
   ],
   "source": [
    "#xii\n",
    "\n",
    "#         *         \n",
    "#       * *         \n",
    "#     * * *         \n",
    "#   * * * *         \n",
    "# * * * * * * * * * \n",
    "#         * * * *   \n",
    "#         * * *     \n",
    "#         * *       \n",
    "#         *         \n",
    "\n",
    "\n",
    "\n",
    "noOfRows=int(input(\"Enter the Number of Rows:\"))\n",
    "if noOfRows%2==0:\n",
    "    print(\"please enter an Odd Number\")\n",
    "else:\n",
    "    n=(noOfRows-1)//2\n",
    "    for i in range(2*n+1):#traversing the row elements \n",
    "        for j in range(2*n+1):#traversing the column elements \n",
    "            if (j+i>=n and i<=n and j<=n) or (j+i<=3*n and i>=n and j>=n):#the relation between i and j got by the equation of a straight line \n",
    "                print(\"*\",end=\" \")\n",
    "            else:\n",
    "                print(\" \",end=\" \")\n",
    "        print()\n"
   ]
  },
  {
   "cell_type": "code",
   "execution_count": 177,
   "id": "880fd909-0f16-4a7a-81a3-51c51841910f",
   "metadata": {},
   "outputs": [
    {
     "name": "stdin",
     "output_type": "stream",
     "text": [
      "Enter the Number of Rows: 9\n"
     ]
    },
    {
     "name": "stdout",
     "output_type": "stream",
     "text": [
      "        *         \n",
      "        * *       \n",
      "        * * *     \n",
      "        * * * *   \n",
      "* * * * * * * * * \n",
      "  * * * *         \n",
      "    * * *         \n",
      "      * *         \n",
      "        *         \n"
     ]
    }
   ],
   "source": [
    "#xiv\n",
    "#         *         \n",
    "#         * *       \n",
    "#         * * *     \n",
    "#         * * * *   \n",
    "# * * * * * * * * * \n",
    "#   * * * *         \n",
    "#     * * *         \n",
    "#       * *         \n",
    "#         *\n",
    "noOfRows=int(input(\"Enter the Number of Rows:\"))\n",
    "if noOfRows%2==0:\n",
    "    print(\"please enter an Odd Number\")\n",
    "else:\n",
    "    n=(noOfRows-1)//2\n",
    "    for i in range(2*n+1):#traversing the row elements \n",
    "        for j in range(2*n+1):#traversing the column elements \n",
    "            if (j-i<=n and i<=n and j>=n) or (i-j<=n and i>=n and j<=n):#the relation between i and j got by the equation of a straight line \n",
    "                print(\"*\",end=\" \")\n",
    "            else:\n",
    "                print(\" \",end=\" \")\n",
    "        print()\n"
   ]
  },
  {
   "cell_type": "code",
   "execution_count": 290,
   "id": "b3c42158-43ee-44e7-afff-9a13d016b7b8",
   "metadata": {},
   "outputs": [
    {
     "name": "stdin",
     "output_type": "stream",
     "text": [
      "Enter the Number of Rows: 9\n"
     ]
    },
    {
     "name": "stdout",
     "output_type": "stream",
     "text": [
      "* * * * *       * \n",
      "  * * * *     * * \n",
      "    * * *   * * * \n",
      "      * * * * * * \n",
      "* * * * * * * * * \n",
      "* * * * * *       \n",
      "* * *   * * *     \n",
      "* *     * * * *   \n",
      "*       * * * * * \n"
     ]
    }
   ],
   "source": [
    "#xiv\n",
    "\n",
    "# * * * * *       * \n",
    "#   * * * *     * * \n",
    "#     * * *   * * * \n",
    "#       * * * * * * \n",
    "# * * * * * * * * * \n",
    "# * * * * * *       \n",
    "# * * *   * * *     \n",
    "# * *     * * * *   \n",
    "# *       * * * * *\n",
    "\n",
    "noOfRows=int(input(\"Enter the Number of Rows:\"))\n",
    "if noOfRows%2==0:\n",
    "    print(\"please enter an Odd Number\")\n",
    "else:\n",
    "    n=(noOfRows-1)//2\n",
    "    for i in range(2*n+1):#traversing the row elements \n",
    "        for j in range(2*n+1):#traversing the column elements \n",
    "            if (i<=j and i<=n and j<=n) or (i+j>=2*n and i<=n and j>=n) or (i-j>=0 and i>=n and j>=n) or (i+j<=2*n and i>=n and j<=n):#the relation between i and j got by the equation of a straight line \n",
    "                print(\"*\",end=\" \")\n",
    "            else:\n",
    "                print(\" \",end=\" \")\n",
    "        print()"
   ]
  },
  {
   "cell_type": "code",
   "execution_count": 223,
   "id": "98f80f1a-77f9-489a-9cc8-69f07d1d398d",
   "metadata": {},
   "outputs": [
    {
     "name": "stdin",
     "output_type": "stream",
     "text": [
      "Enter the Number of Rows: 5\n"
     ]
    },
    {
     "name": "stdout",
     "output_type": "stream",
     "text": [
      "*       * \n",
      "* *   * * \n",
      "* * * * * \n",
      "  * * *   \n",
      "    *     \n"
     ]
    }
   ],
   "source": [
    "#xvi\n",
    "\n",
    "# *       * \n",
    "# * *   * * \n",
    "# * * * * * \n",
    "#   * * *   \n",
    "#     *     \n",
    "\n",
    "noOfRows=int(input(\"Enter the Number of Rows:\"))\n",
    "if noOfRows%2==0:\n",
    "    print(\"please enter an Odd Number\")\n",
    "else:\n",
    "    n=(noOfRows-1)//2\n",
    "    for i in range(2*n+1):#traversing the row elements \n",
    "        for j in range(2*n+1):#traversing the column elements \n",
    "            if (i>=j and i<=n and j<=n) or (i+j>=2*n and i<=n and j>=n) or (i-j<=n and i>=n and j<=n) or (i+j<=3*n and i>=n and j>=n): #the relation between i and j got by the equation of a straight line \n",
    "                print(\"*\",end=\" \")\n",
    "            else:\n",
    "                print(\" \",end=\" \")\n",
    "        print()"
   ]
  },
  {
   "cell_type": "code",
   "execution_count": 284,
   "id": "276aa866-0efe-4fc9-bb9e-be22a1409b05",
   "metadata": {},
   "outputs": [
    {
     "name": "stdin",
     "output_type": "stream",
     "text": [
      "Enter the Number of Rows: 7\n"
     ]
    },
    {
     "name": "stdout",
     "output_type": "stream",
     "text": [
      "      A       \n",
      "    B B B     \n",
      "  C C C C C   \n",
      "D D D D D D D \n",
      "  C C C C C   \n",
      "    B B B     \n",
      "      A       \n"
     ]
    }
   ],
   "source": [
    "# xvii)\n",
    "\n",
    "#       A       \n",
    "#     B B B     \n",
    "#   C C C C C   \n",
    "# D D D D D D D \n",
    "#   C C C C C   \n",
    "#     B B B     \n",
    "#       A \n",
    "\n",
    "noOfRows=int(input(\"Enter the Number of Rows:\"))\n",
    "if noOfRows%2==0:\n",
    "    print(\"please enter an Odd Number\")\n",
    "else:\n",
    "    n=(noOfRows-1)//2\n",
    "    ch=65\n",
    "    for i in range(2*n+1):#traversing the row elements  \n",
    "        if i<=n:\n",
    "            letter=ch+i # if the row <= middle row then we increase the character\n",
    "        else:\n",
    "            letter-=1 #if the row > middle row then we decrease the character\n",
    "            \n",
    "        for j in range(2*n+1):#traversing the column elements \n",
    "            if (i+j>=n and i<=n and j<=n) or (j-i<=n and i<=n and j>=n): # used to print the upper triangle\n",
    "                print(chr(letter),end=\" \")\n",
    "            elif(i-j<=n and i>=n and j<=n) or (j+i<=3*n and i>=n and j>=n): #the relation between i and j got by the equation of a straight line\n",
    "                print(chr(letter),end=\" \")\n",
    "            else:\n",
    "                print(\" \",end=\" \")\n",
    "        print()"
   ]
  },
  {
   "cell_type": "code",
   "execution_count": 33,
   "id": "a5f56f27-7ede-4012-977a-00b5de04ec47",
   "metadata": {},
   "outputs": [
    {
     "name": "stdin",
     "output_type": "stream",
     "text": [
      "Enter the Number of Rows: 7\n"
     ]
    },
    {
     "name": "stdout",
     "output_type": "stream",
     "text": [
      "      A       \n",
      "    B C D     \n",
      "  C D E F G   \n",
      "D E F G H I J \n",
      "  C D E F G   \n",
      "    B C D     \n",
      "      A       \n"
     ]
    }
   ],
   "source": [
    "# xvii)\n",
    "\n",
    "#       A       \n",
    "#     B C D     \n",
    "#   C D E F G   \n",
    "# D E F G H I J \n",
    "#   C D E F G   \n",
    "#     B C D     \n",
    "#       A  \n",
    "\n",
    "noOfRows=int(input(\"Enter the Number of Rows:\"))\n",
    "if noOfRows%2==0:\n",
    "    print(\"please enter an Odd Number\")\n",
    "else:\n",
    "    n=(noOfRows-1)//2\n",
    "    ch=64\n",
    "    for i in range(2*n+1):#traversing the row elements\n",
    "        if i<=n:\n",
    "            ch=ch+1\n",
    "        else:\n",
    "            ch=ch-1\n",
    "        cnt=0\n",
    "        for j in range(2*n+1):#traversing the column elements \n",
    "            if (i+j>=n and i<=n and j<=n) or (j-i<=n and i<=n and j>=n) or (i-j<=n and i>=n and j<=n) or (j+i<=3*n and i>=n and j>=n): # used to print the upper triangle\n",
    "                c=ch+cnt\n",
    "                print(chr(c),end=\" \")\n",
    "                cnt+=1\n",
    "            else:\n",
    "                print(\" \",end=\" \")\n",
    "        print()"
   ]
  },
  {
   "cell_type": "code",
   "execution_count": 41,
   "id": "dca589ea-cc05-4f9b-a813-39336591d8e0",
   "metadata": {},
   "outputs": [
    {
     "name": "stdin",
     "output_type": "stream",
     "text": [
      "Enter the Number of Rows: 7\n"
     ]
    },
    {
     "name": "stdout",
     "output_type": "stream",
     "text": [
      "      D       \n",
      "    D C D     \n",
      "  D C B C D   \n",
      "D C B A B C D \n",
      "  D C B C D   \n",
      "    D C D     \n",
      "      D       \n"
     ]
    }
   ],
   "source": [
    "# xix)\n",
    "\n",
    "#       D       \n",
    "#     D C D     \n",
    "#   D C B C D   \n",
    "# D C B A B C D \n",
    "#   D C B C D   \n",
    "#     D C D     \n",
    "#       D\n",
    "\n",
    "noOfRows=int(input(\"Enter the Number of Rows:\"))\n",
    "if noOfRows%2==0:\n",
    "    print(\"please enter an Odd Number\")\n",
    "else:\n",
    "    n=(noOfRows-1)//2\n",
    "    for i in range(2*n+1):#traversing the row elements \n",
    "        letter=(65+n)\n",
    "        for j in range(2*n+1):#traversing the column elements\n",
    "            \n",
    "            if (i+j>=n and i<=n and j<=n): # used to print the upper triangle\n",
    "                print(chr(letter),end=\" \")\n",
    "                if j!=n:           #increasing the value of letter unless j becomes n. \n",
    "                    letter-=1     \n",
    "            elif(j-i<=n and i<=n and j>=n): # used to print the upper triangle\n",
    "                letter+=1\n",
    "                print(chr(letter),end=\" \")\n",
    "            elif(i-j<=n and i>=n and j<=n):  #the relation between i and j got by the equation of a straight line\n",
    "                print(chr(letter),end=\" \")\n",
    "                if j!=n:\n",
    "                    letter-=1\n",
    "            elif (j+i<=3*n and i>=n and j>=n):\n",
    "                letter+=1\n",
    "                print(chr(letter),end=\" \")\n",
    "                \n",
    "            else:\n",
    "                print(\" \",end=\" \")\n",
    "        print()"
   ]
  },
  {
   "cell_type": "code",
   "execution_count": null,
   "id": "926652e9-4d23-4b28-9e92-513be824cb2d",
   "metadata": {},
   "outputs": [],
   "source": []
  }
 ],
 "metadata": {
  "kernelspec": {
   "display_name": "Python 3 (ipykernel)",
   "language": "python",
   "name": "python3"
  },
  "language_info": {
   "codemirror_mode": {
    "name": "ipython",
    "version": 3
   },
   "file_extension": ".py",
   "mimetype": "text/x-python",
   "name": "python",
   "nbconvert_exporter": "python",
   "pygments_lexer": "ipython3",
   "version": "3.12.5"
  }
 },
 "nbformat": 4,
 "nbformat_minor": 5
}
