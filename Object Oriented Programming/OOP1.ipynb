{
 "cells": [
  {
   "cell_type": "code",
   "execution_count": 1,
   "id": "2f94a3ba",
   "metadata": {},
   "outputs": [
    {
     "name": "stdout",
     "output_type": "stream",
     "text": [
      "<__main__.Point object at 0x0000011178D57190>\n",
      "<__main__.Point object at 0x0000011178D57E90>\n",
      "10 20\n",
      "40 50\n",
      "{'x': 10, 'y': 20}\n",
      "{'x': 40, 'y': 50}\n",
      "{'x': 10}\n"
     ]
    }
   ],
   "source": [
    "# Classes provide a means of bundling data and functionality\n",
    "# together. Creating a new class creates a new type of object \n",
    "# (i.e. classes themselves are objects), allowing new instances\n",
    "# of that type to be made.\n",
    "\n",
    "class Point:\n",
    "    pass\n",
    "\n",
    "# Class instantiation uses function notation. \n",
    "# Assume that the class object is a parameterless function that \n",
    "# returns a new instance of the class.\n",
    "p1 = Point()\n",
    "p2 = Point()\n",
    "\n",
    "print(p1)\n",
    "print(p2)\n",
    "\n",
    "p1.x = 10\n",
    "p1.y = 20\n",
    "\n",
    "p2.x = 40\n",
    "p2.y = 50\n",
    "\n",
    "print(p1.x, p1.y)\n",
    "print(p2.x, p2.y)\n",
    "\n",
    "# A namespace is a mapping from names to objects. Most namespaces are\n",
    "# currently implemented as Python dictionaries, and it may change \n",
    "# in the future.\n",
    "print(p1.__dict__)\n",
    "print(p2.__dict__)\n",
    "\n",
    "del p1.y\n",
    "print(p1.__dict__)"
   ]
  },
  {
   "cell_type": "code",
   "execution_count": 2,
   "id": "6cc56552",
   "metadata": {},
   "outputs": [
    {
     "data": {
      "text/plain": [
       "False"
      ]
     },
     "execution_count": 2,
     "metadata": {},
     "output_type": "execute_result"
    }
   ],
   "source": [
    "p1 is p2"
   ]
  },
  {
   "cell_type": "code",
   "execution_count": 3,
   "id": "4ab5b53d",
   "metadata": {},
   "outputs": [
    {
     "name": "stdout",
     "output_type": "stream",
     "text": [
      "10 20\n",
      "40 50\n"
     ]
    }
   ],
   "source": [
    "# The method function is declared with an explicit first argument\n",
    "# representing the object, which is provided implicitly by the call.\n",
    "\n",
    "class Point:\n",
    "    # When a class defines an __init__() method, class instantiation\n",
    "    # automatically invokes __init__() for the newly created class instance.\n",
    "    def __init__(self, x, y):\n",
    "        self.x = x\n",
    "        self.y = y\n",
    "\n",
    "p1 = Point(10, 20)\n",
    "p2 = Point(40, 50)\n",
    "\n",
    "print(p1.x, p1.y)\n",
    "print(p2.x, p2.y)"
   ]
  },
  {
   "cell_type": "markdown",
   "id": "f836f7eb",
   "metadata": {},
   "source": [
    "#### Class Variable vs. Instance Variables<br><br>Class variables are shared by all the instances,<br>whereas instance variables are specific to a particular instance."
   ]
  },
  {
   "cell_type": "code",
   "execution_count": 4,
   "id": "37a2e5cf",
   "metadata": {},
   "outputs": [
    {
     "name": "stdout",
     "output_type": "stream",
     "text": [
      "0 0 0\n",
      "{'x': 10, 'y': 20}\n",
      "{'x': 40, 'y': 50}\n",
      "{'__module__': '__main__', 'count': 0, '__init__': <function Point.__init__ at 0x0000011178CDBEC0>, '__dict__': <attribute '__dict__' of 'Point' objects>, '__weakref__': <attribute '__weakref__' of 'Point' objects>, '__doc__': None}\n"
     ]
    }
   ],
   "source": [
    "class Point:\n",
    "    count = 0     # A class variable shared by all the instances\n",
    "    def __init__(self, x, y):\n",
    "        self.x = x\n",
    "        self.y = y\n",
    "          \n",
    "p1 = Point(10, 20)\n",
    "p2 = Point(40, 50)\n",
    "\n",
    "print(Point.count, p1.count, p2.count)\n",
    "\n",
    "print(p1.__dict__)\n",
    "print(p2.__dict__)\n",
    "print(Point.__dict__)"
   ]
  },
  {
   "cell_type": "code",
   "execution_count": 5,
   "id": "60c8176d",
   "metadata": {},
   "outputs": [
    {
     "name": "stdout",
     "output_type": "stream",
     "text": [
      "1 1\n",
      "2 2 2\n",
      "{'x': 10, 'y': 20}\n",
      "{'x': 40, 'y': 50}\n",
      "{'__module__': '__main__', 'count': 2, '__init__': <function Point.__init__ at 0x0000011178CDB240>, '__dict__': <attribute '__dict__' of 'Point' objects>, '__weakref__': <attribute '__weakref__' of 'Point' objects>, '__doc__': None}\n"
     ]
    }
   ],
   "source": [
    "class Point:\n",
    "    count = 0    # class variable\n",
    "    def __init__(self, x, y):\n",
    "        self.x = x\n",
    "        self.y = y\n",
    "        # Update class variable\n",
    "        Point.count += 1 # or, self.__class__.count += 1\n",
    "              \n",
    "p1 = Point(10, 20)\n",
    "print(Point.count, p1.count)\n",
    "\n",
    "p2 = Point(40, 50)\n",
    "\n",
    "print(Point.count, p1.count, p2.count)\n",
    "\n",
    "print(p1.__dict__)\n",
    "print(p2.__dict__)\n",
    "print(Point.__dict__)"
   ]
  },
  {
   "cell_type": "code",
   "execution_count": 6,
   "id": "7d052857",
   "metadata": {},
   "outputs": [
    {
     "name": "stdout",
     "output_type": "stream",
     "text": [
      "0 1\n",
      "0 1 1\n",
      "{'x': 10, 'y': 20, 'count': 1}\n",
      "{'x': 40, 'y': 50, 'count': 1}\n",
      "{'__module__': '__main__', 'count': 0, '__init__': <function Point.__init__ at 0x0000011178DE0040>, '__dict__': <attribute '__dict__' of 'Point' objects>, '__weakref__': <attribute '__weakref__' of 'Point' objects>, '__doc__': None}\n"
     ]
    }
   ],
   "source": [
    "class Point:\n",
    "    count = 0    # class variable\n",
    "    def __init__(self, x, y):\n",
    "        self.x = x\n",
    "        self.y = y\n",
    "        self.count += 1  # an instance variable\n",
    "              \n",
    "p1 = Point(10, 20)\n",
    "print(Point.count, p1.count)\n",
    "\n",
    "p2 = Point(40, 50)\n",
    "\n",
    "print(Point.count, p1.count, p2.count)\n",
    "\n",
    "print(p1.__dict__)\n",
    "print(p2.__dict__)\n",
    "print(Point.__dict__)"
   ]
  },
  {
   "cell_type": "code",
   "execution_count": 7,
   "id": "f9bd1414",
   "metadata": {},
   "outputs": [
    {
     "name": "stdout",
     "output_type": "stream",
     "text": [
      "0 0 0\n",
      "{'x': 10, 'y': 20}\n",
      "{'x': 10, 'y': 20, 'count': 1}\n",
      "0 1 0\n",
      "{'x': 40, 'y': 50}\n",
      "{'__module__': '__main__', 'count': 0, '__init__': <function Point.__init__ at 0x0000011178DE02C0>, '__dict__': <attribute '__dict__' of 'Point' objects>, '__weakref__': <attribute '__weakref__' of 'Point' objects>, '__doc__': None}\n"
     ]
    }
   ],
   "source": [
    "class Point:\n",
    "    count = 0    # class variable\n",
    "    def __init__(self, x, y):\n",
    "        self.x = x\n",
    "        self.y = y\n",
    "                      \n",
    "p1 = Point(10, 20)\n",
    "p2 = Point(40, 50)\n",
    "\n",
    "print(Point.count, p1.count, p2.count)\n",
    "\n",
    "print(p1.__dict__)\n",
    "p1.count += 1     # instance variable\n",
    "print(p1.__dict__)\n",
    "\n",
    "print(Point.count, p1.count, p2.count)\n",
    "\n",
    "print(p2.__dict__)\n",
    "print(Point.__dict__)"
   ]
  },
  {
   "cell_type": "markdown",
   "id": "eeba2450",
   "metadata": {},
   "source": [
    "#### __repr__ vs __str__"
   ]
  },
  {
   "cell_type": "code",
   "execution_count": 8,
   "id": "893f24e8",
   "metadata": {},
   "outputs": [
    {
     "name": "stdout",
     "output_type": "stream",
     "text": [
      "(0, 0)\n",
      "(5, 6)\n",
      "(3, 4)\n"
     ]
    }
   ],
   "source": [
    "class Point:    \n",
    "    \"\"\"A Point instance models a 2D point with x and y coordinates\"\"\"\n",
    " \n",
    "    def __init__(self, x = 0, y = 0):\n",
    "        \"\"\"Initializer, which creates the instance variables x and y with default of (0, 0)\"\"\"\n",
    "        self.x = x\n",
    "        self.y = y\n",
    " \n",
    "    def __str__(self):\n",
    "        \"\"\"Return a descriptive string for this instance\"\"\"\n",
    "        return f'({self.x}, {self.y})'\n",
    " \n",
    "    def __repr__(self):\n",
    "        \"\"\"Return a command string to re-create this instance\"\"\"\n",
    "        return f'Point(x={self.x}, y={self.y})'\n",
    "    \n",
    "p1 = Point()\n",
    "print(p1)      # (0, 0)\n",
    "p1.x = 5\n",
    "p1.y = 6\n",
    "print(p1)      # (5, 6)\n",
    "p2 = Point(3, 4)\n",
    "print(p2)      # (3, 4)"
   ]
  },
  {
   "cell_type": "code",
   "execution_count": 9,
   "id": "d463fec2",
   "metadata": {},
   "outputs": [],
   "source": [
    "# repr() return a string containing a printable representation of an object. \n",
    "# For many types, this function makes an attempt to return a string that \n",
    "# would yield an object with the same value when passed to eval()\n",
    "# A class can control what this function returns for its instances by \n",
    "# defining a __repr__() method\n",
    "\n",
    "# str() when only object is given, returns its nicely printable representation. \n",
    "# For strings, this is the string itself. The difference with repr(object) \n",
    "# is that str(object) does not always attempt to return a string that is \n",
    "# acceptable to eval(); its goal is to return a printable string."
   ]
  },
  {
   "cell_type": "code",
   "execution_count": 10,
   "id": "f905414c",
   "metadata": {},
   "outputs": [
    {
     "name": "stdout",
     "output_type": "stream",
     "text": [
      "str(time_now): 2025-01-10 16:23:04.969678\n",
      "repr(time_now): datetime.datetime(2025, 1, 10, 16, 23, 4, 969678)\n"
     ]
    }
   ],
   "source": [
    "import datetime\n",
    "\n",
    "time_now = datetime.datetime.now()\n",
    "\n",
    "print(f'str(time_now): {str(time_now)}')\n",
    "print(f'repr(time_now): {repr(time_now)}')"
   ]
  }
 ],
 "metadata": {
  "kernelspec": {
   "display_name": "Python 3 (ipykernel)",
   "language": "python",
   "name": "python3"
  },
  "language_info": {
   "codemirror_mode": {
    "name": "ipython",
    "version": 3
   },
   "file_extension": ".py",
   "mimetype": "text/x-python",
   "name": "python",
   "nbconvert_exporter": "python",
   "pygments_lexer": "ipython3",
   "version": "3.11.4"
  }
 },
 "nbformat": 4,
 "nbformat_minor": 5
}
