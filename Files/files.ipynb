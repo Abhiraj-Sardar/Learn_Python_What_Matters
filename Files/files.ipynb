{
 "cells": [
  {
   "cell_type": "code",
   "execution_count": 1,
   "id": "13f8fb8d",
   "metadata": {},
   "outputs": [],
   "source": [
    "''' \n",
    "open() returns a file object, \n",
    "and is most commonly used with two positional arguments \n",
    "and one keyword argument:\n",
    "open(filename, mode, encoding=None)\n",
    "\n",
    "available modes are 'r','w','a','x':\n",
    "========= ====================================================\n",
    "Character  Meaning\n",
    "--------- ----------------------------------------------------\n",
    "'r'       open for reading (default), \n",
    "          error if the file does not exist\n",
    "'w'       open for writing, truncating the file first,\n",
    "          creates the file if it does not exist\n",
    "'x'       create a new file and open it for writing,\n",
    "          returns an error if the file exists\n",
    "'a'       open for writing, appending to the end of the file \n",
    "          if it exists, creates the file if it does not exist\n",
    "'b'       binary mode\n",
    "'t'       text mode (default)\n",
    "'+'       open a disk file for updating (reading and writing)\n",
    "\n",
    "The default mode is 'rt' (open for reading text).\n",
    "Appending a 'b' to the mode opens the file in binary mode.\n",
    "Files opened in binary mode return contents as bytes objects \n",
    "without any decoding.\n",
    "In text mode, the contents of the file are returned as strings, \n",
    "the bytes having been first decoded using a platform-dependent encoding \n",
    "or using the specified encoding if given.\n",
    "'''\n",
    "fw = open('test1.txt','w')\n",
    "for x in range(6):\n",
    "    # write(string) writes the contents of string to the file, \n",
    "    # returning the number of characters written.\n",
    "    fw.write(str(x))        #write 012345 to the file test1.txt\n",
    "fw.close()   "
   ]
  },
  {
   "cell_type": "code",
   "execution_count": 2,
   "id": "c08826a9",
   "metadata": {},
   "outputs": [],
   "source": [
    "# fw.close() was used to close the file and \n",
    "# immediately free up any system resources used by it."
   ]
  },
  {
   "cell_type": "code",
   "execution_count": 3,
   "id": "88d74145",
   "metadata": {},
   "outputs": [],
   "source": [
    "# 'with' statement to use context manager to close a file\n",
    "# Advantage: the file is properly closed after its suite \n",
    "# finishes, even if an exception is raised at some point.\n",
    "\n",
    "with open('test2.txt','w') as fw:\n",
    "    # write 0 to 5 each in a separate line to file test2.txt\n",
    "    for x in range(6):\n",
    "        fw.write(str(x))\n",
    "        fw.write('\\n')"
   ]
  },
  {
   "cell_type": "code",
   "execution_count": 4,
   "id": "5f5d4f9c",
   "metadata": {},
   "outputs": [],
   "source": [
    "# Calling write() without using the 'with' keyword or close(), \n",
    "# might result in the arguments of write() not being completely \n",
    "# written to the disk,even if the program exits successfully."
   ]
  },
  {
   "cell_type": "code",
   "execution_count": 5,
   "id": "a3e63959",
   "metadata": {},
   "outputs": [
    {
     "name": "stdout",
     "output_type": "stream",
     "text": [
      "0\n",
      "\n",
      "1\n",
      "\n",
      "2\n",
      "\n",
      "3\n",
      "\n",
      "4\n",
      "\n",
      "5\n",
      "\n"
     ]
    }
   ],
   "source": [
    "# reading a file - looping through the file line by line\n",
    "\n",
    "with open('test2.txt','r') as fr:\n",
    "    for line in fr:\n",
    "        print(line)"
   ]
  },
  {
   "cell_type": "code",
   "execution_count": 6,
   "id": "6c68c739",
   "metadata": {},
   "outputs": [
    {
     "name": "stdout",
     "output_type": "stream",
     "text": [
      "0\n",
      "1\n",
      "2\n",
      "3\n",
      "4\n",
      "5\n"
     ]
    }
   ],
   "source": [
    "\"\"\" as the line read has a newline at the end of it\n",
    "and also print() provides a newline, there is \n",
    "one extra blank line after each line of output above\"\"\"\n",
    "\n",
    "with open('test2.txt') as fr:\n",
    "    for x in fr:\n",
    "        print(x.rstrip()) # get rid of the newline at the end of a line"
   ]
  },
  {
   "cell_type": "code",
   "execution_count": 7,
   "id": "8072467b",
   "metadata": {},
   "outputs": [
    {
     "name": "stdout",
     "output_type": "stream",
     "text": [
      "0\n",
      "1\n",
      "2\n",
      "3\n",
      "4\n",
      "5\n"
     ]
    }
   ],
   "source": [
    "with open('test2.txt') as fr:\n",
    "    for x in fr:\n",
    "        print(x, end = '') # get rid of the newline provided by print()"
   ]
  },
  {
   "cell_type": "code",
   "execution_count": 8,
   "id": "de6a21ad",
   "metadata": {},
   "outputs": [
    {
     "name": "stdout",
     "output_type": "stream",
     "text": [
      "<class 'str'>\n",
      "0\n",
      "1\n",
      "2\n",
      "3\n",
      "4\n",
      "5\n",
      "\n",
      "--------------------\n",
      "<class 'str'>\n",
      "\n"
     ]
    }
   ],
   "source": [
    "# read(n)- at most n characters (in text mode) or \n",
    "# n bytes (in binary mode) are read and returned.\n",
    "# if n is omitted or negative, the entire file is returned. \n",
    "# if the end of the file has been reached,an empty string ('') is returned.\n",
    "\n",
    "with open('test2.txt') as fr:        \n",
    "    firstRead = fr.read() # read the entire file as a single string\n",
    "    secondRead = fr.read()             \n",
    "    print(type(firstRead))\n",
    "    print(firstRead)\n",
    "    print('-'*20)\n",
    "    print(type(secondRead))\n",
    "    print(secondRead)"
   ]
  },
  {
   "cell_type": "code",
   "execution_count": 9,
   "id": "6ca63f19",
   "metadata": {},
   "outputs": [
    {
     "name": "stdout",
     "output_type": "stream",
     "text": [
      "<class 'str'>\n",
      "0\n",
      "\n",
      "1\n",
      "\n",
      "2\n",
      "\n"
     ]
    }
   ],
   "source": [
    "# readline(n) - return the next line of the file\n",
    "# with all text up to and including the newline character. \n",
    "# if n is provided as a parameter, then only n characters\n",
    "# will be returned if the line is longer than n. \n",
    "\n",
    "with open('test2.txt') as fr:\n",
    "    x=fr.readline()\n",
    "    y=fr.readline()\n",
    "    z=fr.readline()\n",
    "    print(type(x))\n",
    "    print(x)\n",
    "    print(y)\n",
    "    print(z)"
   ]
  },
  {
   "cell_type": "code",
   "execution_count": 10,
   "id": "3a119c57",
   "metadata": {},
   "outputs": [
    {
     "name": "stdout",
     "output_type": "stream",
     "text": [
      "<class 'list'>\n",
      "['0\\n', '1\\n', '2\\n', '3\\n', '4\\n', '5\\n']\n"
     ]
    }
   ],
   "source": [
    "\"\"\" readlines(n) - returns a list of strings, \n",
    "each representing a single line of the file. \n",
    "if n is not provided then all lines of the file are returned. \n",
    "if n provided and the number of bytes returned exceed n, \n",
    "no more lines will be returned \"\"\"\n",
    "\n",
    "with open('test2.txt') as fr:\n",
    "    x = fr.readlines()\n",
    "    print(type(x))\n",
    "    print(x)"
   ]
  },
  {
   "cell_type": "code",
   "execution_count": 11,
   "id": "941a1caa",
   "metadata": {},
   "outputs": [
    {
     "name": "stdout",
     "output_type": "stream",
     "text": [
      "<class 'list'>\n",
      "['0\\n', '1\\n', '2\\n', '3\\n', '4\\n', '5\\n']\n"
     ]
    }
   ],
   "source": [
    "# Alternatively, to read all the lines of a file in a list\n",
    "\n",
    "with open('test2.txt') as fr:\n",
    "    x = list(fr)\n",
    "    print(type(x))\n",
    "    print(x)"
   ]
  },
  {
   "cell_type": "code",
   "execution_count": 12,
   "id": "47fdbc25",
   "metadata": {},
   "outputs": [],
   "source": [
    "# delete a file - import the os module, and run its os.remove()\n",
    "\n",
    "import os\n",
    "\n",
    "if os.path.exists(\"test1.txt\"):\n",
    "    os.remove(\"test1.txt\")\n",
    "else:\n",
    "    print(\"The file does not exist\")"
   ]
  },
  {
   "cell_type": "code",
   "execution_count": 13,
   "id": "2ae7744d",
   "metadata": {},
   "outputs": [],
   "source": [
    "# writing a dictionary to a file using json\n",
    "# JSON (JavaScript Object Notation)- a data interchange format\n",
    "# json can take Python data hierarchies, \n",
    "# and convert them to string representations - serializing. \n",
    "# Reconstructing the data from the string representation is called deserializing.\n",
    "\n",
    "# json.dump() - serialize an object as a JSON formatted stream \n",
    "\n",
    "import json\n",
    "\n",
    "x = {'name':'Aditi','roll':5, \"marks\":[96,100,85]}\n",
    "\n",
    "with open('test3.txt','w', encoding='utf-8') as fw:\n",
    "    json.dump(x,fw)"
   ]
  },
  {
   "cell_type": "code",
   "execution_count": 14,
   "id": "ee71d3fa",
   "metadata": {},
   "outputs": [
    {
     "name": "stdout",
     "output_type": "stream",
     "text": [
      "<class 'dict'>\n",
      "{'name': 'Aditi', 'roll': 5, 'marks': [96, 100, 85]}\n"
     ]
    }
   ],
   "source": [
    "# reading the file test3.txt \n",
    "\n",
    "import json\n",
    "\n",
    "with open('test3.txt', encoding='utf-8') as fr:\n",
    "    x = json.load(fr)\n",
    "\n",
    "    print(type(x))\n",
    "    print(x)"
   ]
  },
  {
   "cell_type": "code",
   "execution_count": null,
   "id": "8ae4560b",
   "metadata": {},
   "outputs": [],
   "source": [
    "'''Simple serialization technique with json can handle lists and dictionaries, \n",
    "but serializing arbitrary class instances requires a bit of extra effort.\n",
    "https://docs.python.org/3/library/json.html#module-json\n",
    "'''"
   ]
  },
  {
   "cell_type": "code",
   "execution_count": null,
   "id": "53aa4c2d",
   "metadata": {},
   "outputs": [],
   "source": [
    "'''Contrary to JSON, pickle is a protocol which allows \n",
    "the serialization of arbitrarily complex Python objects. \n",
    "As such, it is specific to Python and cannot be used to \n",
    "communicate with applications written in other languages. \n",
    "It is also insecure by default: deserializing pickle data \n",
    "coming from an untrusted source can execute arbitrary code, \n",
    "if the data was crafted by a skilled attacker.\n",
    "'''"
   ]
  },
  {
   "cell_type": "code",
   "execution_count": 15,
   "id": "13f70b9a",
   "metadata": {},
   "outputs": [],
   "source": [
    "\"\"\" writing a dictionary to a file using pickle\n",
    "The pickle module implements binary protocols for \n",
    "serializing and de-serializing a Python object structure. \n",
    "“Pickling” is the process whereby a Python object hierarchy \n",
    "is converted into a byte stream, and “unpickling” is the \n",
    "inverse operation, whereby \n",
    "a byte stream (from a binary file or bytes-like object) \n",
    "is converted back into an object hierarchy\"\"\"\n",
    "\n",
    "import pickle\n",
    "\n",
    "x = {'name':'Aditi','roll':5, 'marks':[96, 100, 83]}\n",
    "\n",
    "with open('test4','wb') as fw:\n",
    "    pickle.dump(x,fw)"
   ]
  },
  {
   "cell_type": "code",
   "execution_count": 16,
   "id": "06d53111",
   "metadata": {},
   "outputs": [
    {
     "name": "stdout",
     "output_type": "stream",
     "text": [
      "<class 'dict'>\n",
      "{'name': 'Aditi', 'roll': 5, 'marks': [96, 100, 83]}\n"
     ]
    }
   ],
   "source": [
    "# reading the file test4\n",
    "\n",
    "import pickle\n",
    "\n",
    "with open('test4','rb') as fr:\n",
    "    x = pickle.load(fr)\n",
    "\n",
    "    print(type(x))\n",
    "    print(x)"
   ]
  },
  {
   "cell_type": "code",
   "execution_count": 17,
   "id": "8dab269b",
   "metadata": {},
   "outputs": [
    {
     "name": "stdout",
     "output_type": "stream",
     "text": [
      "0\n",
      "{\"name\": \"Aditi\"\n",
      "16\n"
     ]
    }
   ],
   "source": [
    "# Some of the other methods on a file object\n",
    "\n",
    "# tell() method returns an integer giving the file object’s \n",
    "# current position in the file represented as number of bytes\n",
    "# from the beginning of the file when in binary mode and \n",
    "# an opaque number when in text mode.\n",
    "\n",
    "with open(\"test3.txt\") as fr:\n",
    "    print(fr.tell())\n",
    "    print(fr.read(16))\n",
    "    print(fr.tell())\n"
   ]
  },
  {
   "cell_type": "code",
   "execution_count": 18,
   "id": "f63b564c",
   "metadata": {},
   "outputs": [
    {
     "name": "stdout",
     "output_type": "stream",
     "text": [
      "9\n",
      "\"Aditi\", \"roll\": 5, \"marks\": [96, 100, 85]}\n"
     ]
    }
   ],
   "source": [
    "# Some of the other methods on a file object\n",
    "\n",
    "# seek() method sets the current file position in a file stream\n",
    "# and also returns the new postion.\n",
    "# seek(offset, whence). The position is computed from \n",
    "# adding offset to a reference point(whence). \n",
    "# whence = 0 measures from the beginning of the file, \n",
    "# whence = 1 uses the current file position, \n",
    "# whence = 2 uses the end of the file as the reference point. \n",
    "# whence can be omitted and defaults to 0.\n",
    "\n",
    "with open(\"test3.txt\") as fr:\n",
    "    print(fr.seek(9))\n",
    "    print(fr.readline())"
   ]
  },
  {
   "cell_type": "code",
   "execution_count": 19,
   "id": "b0c29858",
   "metadata": {},
   "outputs": [],
   "source": [
    "# In text files, only seeks relative to the beginning of the file are allowed\n",
    "# (the exception being seeking to the very file end with seek(0, 2)) \n",
    "# and the only valid offset values are those returned from the tell(), or zero. \n",
    "# Any other offset value produces undefined behaviour."
   ]
  },
  {
   "cell_type": "code",
   "execution_count": 20,
   "id": "7ca29c07",
   "metadata": {},
   "outputs": [
    {
     "name": "stdout",
     "output_type": "stream",
     "text": [
      "['_CHUNK_SIZE', '__class__', '__del__', '__delattr__', '__dict__', '__dir__', '__doc__', '__enter__', '__eq__', '__exit__', '__format__', '__ge__', '__getattribute__', '__getstate__', '__gt__', '__hash__', '__init__', '__init_subclass__', '__iter__', '__le__', '__lt__', '__ne__', '__new__', '__next__', '__reduce__', '__reduce_ex__', '__repr__', '__setattr__', '__sizeof__', '__str__', '__subclasshook__', '_checkClosed', '_checkReadable', '_checkSeekable', '_checkWritable', '_finalizing', 'buffer', 'close', 'closed', 'detach', 'encoding', 'errors', 'fileno', 'flush', 'isatty', 'line_buffering', 'mode', 'name', 'newlines', 'read', 'readable', 'readline', 'readlines', 'reconfigure', 'seek', 'seekable', 'tell', 'truncate', 'writable', 'write', 'write_through', 'writelines']\n"
     ]
    }
   ],
   "source": [
    "print(dir(fr))"
   ]
  }
 ],
 "metadata": {
  "kernelspec": {
   "display_name": "Python 3 (ipykernel)",
   "language": "python",
   "name": "python3"
  },
  "language_info": {
   "codemirror_mode": {
    "name": "ipython",
    "version": 3
   },
   "file_extension": ".py",
   "mimetype": "text/x-python",
   "name": "python",
   "nbconvert_exporter": "python",
   "pygments_lexer": "ipython3",
   "version": "3.11.4"
  }
 },
 "nbformat": 4,
 "nbformat_minor": 5
}
