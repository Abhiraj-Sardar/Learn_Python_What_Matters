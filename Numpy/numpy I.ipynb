{
 "cells": [
  {
   "cell_type": "markdown",
   "id": "2bcefcb0",
   "metadata": {},
   "source": [
    "'''\n",
    "NumPy (Numerical Python): an open source Python library.\n",
    "The fundamental package for scientific computing in Python.\n",
    "The NumPy API is used extensively in Pandas, SciPy, \n",
    "Matplotlib, scikit-learn, scikit-image and most other \n",
    "data science and scientific Python packages.\n",
    "\n",
    "It provides ndarray, a homogeneous n-dimensional array object, \n",
    "with methods to efficiently operate on it.\n",
    "'''"
   ]
  },
  {
   "cell_type": "code",
   "execution_count": 1,
   "id": "8c6d0aa9",
   "metadata": {},
   "outputs": [],
   "source": [
    "#To access NumPy and its functions import it in your Python code\n",
    "\n",
    "import numpy as np"
   ]
  },
  {
   "cell_type": "code",
   "execution_count": 2,
   "id": "e68601fe",
   "metadata": {},
   "outputs": [
    {
     "name": "stdout",
     "output_type": "stream",
     "text": [
      "[[1 2 3]\n",
      " [4 5 6]]\n"
     ]
    }
   ],
   "source": [
    "a = np.array([[1, 2, 3], [4, 5, 6]])\n",
    "print(a)"
   ]
  },
  {
   "cell_type": "code",
   "execution_count": null,
   "id": "6dca5a46",
   "metadata": {},
   "outputs": [],
   "source": [
    "'''\n",
    "Most NumPy arrays have some restrictions. For instance:\n",
    "All elements of the array must be of the same type of data.\n",
    "Once created, the total size of the array can’t change.\n",
    "The shape must be “rectangular”, not “jagged”; e.g., each \n",
    "row of a two-dimensional array must have the same number of columns.\n",
    "\n",
    "When these conditions are met, NumPy exploits these characteristics\n",
    "to make the array faster, more memory efficient, and more convenient\n",
    "to use than less restrictive data structures.\n",
    "'''"
   ]
  },
  {
   "cell_type": "code",
   "execution_count": 3,
   "id": "e18a77a0-904d-4501-9d87-1044b172e3aa",
   "metadata": {},
   "outputs": [
    {
     "name": "stdout",
     "output_type": "stream",
     "text": [
      "Type: <class 'numpy.ndarray'>\n"
     ]
    }
   ],
   "source": [
    "print(f\"Type: {type(a)}\")"
   ]
  },
  {
   "cell_type": "code",
   "execution_count": 4,
   "id": "fe389be4-a2c3-4272-85f4-18fd44468f76",
   "metadata": {},
   "outputs": [
    {
     "name": "stdout",
     "output_type": "stream",
     "text": [
      "Number of axes: 2\n"
     ]
    }
   ],
   "source": [
    "# ndim: no. of axes (dimension)\n",
    "\n",
    "print(f\"Number of axes: {a.ndim}\")"
   ]
  },
  {
   "cell_type": "code",
   "execution_count": 5,
   "id": "43f0587a-2c18-4ab2-be03-fbec3bc76669",
   "metadata": {},
   "outputs": [
    {
     "name": "stdout",
     "output_type": "stream",
     "text": [
      "Dimensions: (2, 3)\n"
     ]
    }
   ],
   "source": [
    "# shape: tuple of non-negative integers \n",
    "# that specify the number of elements along each dimension\n",
    "\n",
    "print(f\"Dimensions: {a.shape}\")"
   ]
  },
  {
   "cell_type": "code",
   "execution_count": 6,
   "id": "1631defc-c1bb-4f45-9c35-8dc86ea568c0",
   "metadata": {},
   "outputs": [
    {
     "name": "stdout",
     "output_type": "stream",
     "text": [
      "No. of elements: 6\n"
     ]
    }
   ],
   "source": [
    "# size: total no. of elements\n",
    "\n",
    "print(f\"No. of elements: {a.size}\")"
   ]
  },
  {
   "cell_type": "code",
   "execution_count": 7,
   "id": "bc13e9e9-7ee8-4fd2-a2ab-a9a98b284179",
   "metadata": {},
   "outputs": [
    {
     "name": "stdout",
     "output_type": "stream",
     "text": [
      "Type of elements: int32\n"
     ]
    }
   ],
   "source": [
    "# dtype: type of elements\n",
    "\n",
    "print(f\"Type of elements: {a.dtype}\")"
   ]
  },
  {
   "cell_type": "code",
   "execution_count": 8,
   "id": "a9f2f677-18bb-4d13-986b-c1bbae7fb346",
   "metadata": {},
   "outputs": [
    {
     "name": "stdout",
     "output_type": "stream",
     "text": [
      "Size (in bytes) of each element: 4\n"
     ]
    }
   ],
   "source": [
    "# itemsize: the size in bytes of each element of the array\n",
    "\n",
    "print(f\"Size (in bytes) of each element: {a.itemsize}\")"
   ]
  },
  {
   "cell_type": "code",
   "execution_count": 9,
   "id": "138c5f44",
   "metadata": {},
   "outputs": [
    {
     "name": "stdout",
     "output_type": "stream",
     "text": [
      "Size (in bytes) of the array: 24\n"
     ]
    }
   ],
   "source": [
    "# nbytes: number of bytes used by data portion of the array\n",
    "\n",
    "print(f\"Size (in bytes) of the array: {a.nbytes}\")"
   ]
  },
  {
   "cell_type": "code",
   "execution_count": 10,
   "id": "62d64d49-18a9-4cef-b680-f88d6bec1b38",
   "metadata": {},
   "outputs": [
    {
     "name": "stdout",
     "output_type": "stream",
     "text": [
      "Buffer: <memory at 0x0000014B0A0F9D80>\n"
     ]
    }
   ],
   "source": [
    "# data: buffer containing the elements of the array\n",
    "\n",
    "print(f\"Buffer: {a.data}\")"
   ]
  },
  {
   "cell_type": "code",
   "execution_count": 11,
   "id": "baa7ec33",
   "metadata": {},
   "outputs": [
    {
     "name": "stdout",
     "output_type": "stream",
     "text": [
      "(12, 4)\n"
     ]
    }
   ],
   "source": [
    "# strides : how many bytes to skip in memory to move to \n",
    "# the next position along a certain axis\n",
    "\n",
    "print(a.strides)"
   ]
  },
  {
   "cell_type": "code",
   "execution_count": 12,
   "id": "29632f64",
   "metadata": {},
   "outputs": [
    {
     "data": {
      "text/plain": [
       "array([1, 2, 3])"
      ]
     },
     "execution_count": 12,
     "metadata": {},
     "output_type": "execute_result"
    }
   ],
   "source": [
    "# Array Creation\n",
    "# np.array(), np.zeros(), np.ones(), np.empty(), \n",
    "# np.arange(), np.linspace(), dtype\n",
    "\n",
    "# np.array : from list or tuples\n",
    "\n",
    "np.array([1, 2, 3])"
   ]
  },
  {
   "cell_type": "code",
   "execution_count": 13,
   "id": "c5ab16d0",
   "metadata": {},
   "outputs": [
    {
     "data": {
      "text/plain": [
       "array([[0., 0., 0.],\n",
       "       [0., 0., 0.]])"
      ]
     },
     "execution_count": 13,
     "metadata": {},
     "output_type": "execute_result"
    }
   ],
   "source": [
    "# zeros: creates an array full of zeros\n",
    "# zeros(shape, dtype='float64')\n",
    "# shape is a number or sequence specifying\n",
    "# dimensions of the array\n",
    "\n",
    "np.zeros((2, 3))"
   ]
  },
  {
   "cell_type": "code",
   "execution_count": 14,
   "id": "197463fa",
   "metadata": {},
   "outputs": [
    {
     "data": {
      "text/plain": [
       "array([[0, 0, 0],\n",
       "       [0, 0, 0]], dtype=int16)"
      ]
     },
     "execution_count": 14,
     "metadata": {},
     "output_type": "execute_result"
    }
   ],
   "source": [
    "np.zeros((2, 3), dtype = 'int16')"
   ]
  },
  {
   "cell_type": "code",
   "execution_count": 15,
   "id": "b1c5dfcc",
   "metadata": {},
   "outputs": [
    {
     "data": {
      "text/plain": [
       "array([[1., 1.],\n",
       "       [1., 1.],\n",
       "       [1., 1.]])"
      ]
     },
     "execution_count": 15,
     "metadata": {},
     "output_type": "execute_result"
    }
   ],
   "source": [
    "# ones: creates an array full of ones\n",
    "# ones(shape, dtype='float64')\n",
    "\n",
    "np.ones((3, 2))"
   ]
  },
  {
   "cell_type": "code",
   "execution_count": 16,
   "id": "6c655762",
   "metadata": {},
   "outputs": [
    {
     "data": {
      "text/plain": [
       "array([[6.23042070e-307, 4.67296746e-307, 1.69121096e-306],\n",
       "       [1.29061074e-306, 1.89146896e-307, 7.56571288e-307],\n",
       "       [3.11525958e-307, 1.24610723e-306, 0.00000000e+000]])"
      ]
     },
     "execution_count": 16,
     "metadata": {},
     "output_type": "execute_result"
    }
   ],
   "source": [
    "# empty: creates an array whose \n",
    "# initial content is random and \n",
    "# depends on the state of the memory\n",
    "\n",
    "np.empty((3,3))"
   ]
  },
  {
   "cell_type": "code",
   "execution_count": 17,
   "id": "c9dc8e20",
   "metadata": {},
   "outputs": [
    {
     "data": {
      "text/plain": [
       "array([[55.55, 55.55],\n",
       "       [55.55, 55.55],\n",
       "       [55.55, 55.55]])"
      ]
     },
     "execution_count": 17,
     "metadata": {},
     "output_type": "execute_result"
    }
   ],
   "source": [
    "np.full((3,2), 55.55)"
   ]
  },
  {
   "cell_type": "code",
   "execution_count": 18,
   "id": "bd32b06e",
   "metadata": {},
   "outputs": [
    {
     "name": "stdout",
     "output_type": "stream",
     "text": [
      "[[1. 0. 0.]\n",
      " [0. 1. 0.]\n",
      " [0. 0. 1.]]\n"
     ]
    }
   ],
   "source": [
    "a=np.identity(3)\n",
    "print(a)"
   ]
  },
  {
   "cell_type": "code",
   "execution_count": 19,
   "id": "4864407f",
   "metadata": {},
   "outputs": [
    {
     "data": {
      "text/plain": [
       "array([1, 3, 5, 7])"
      ]
     },
     "execution_count": 19,
     "metadata": {},
     "output_type": "execute_result"
    }
   ],
   "source": [
    "# arange: Nearly analogous to the Python built-in range, \n",
    "# but returns an array\n",
    "\n",
    "np.arange(1, 9, 2)"
   ]
  },
  {
   "cell_type": "code",
   "execution_count": 20,
   "id": "3ce5fef1",
   "metadata": {},
   "outputs": [
    {
     "data": {
      "text/plain": [
       "array([-2.  , -1.25, -0.5 ,  0.25,  1.  ,  1.75,  2.5 ,  3.25,  4.  ])"
      ]
     },
     "execution_count": 20,
     "metadata": {},
     "output_type": "execute_result"
    }
   ],
   "source": [
    "# linspace: evenly spaced elements in\n",
    "# a specified interval\n",
    "# i.e. between (and including) start and stop \n",
    "\n",
    "np.linspace(-2, 4, 9)"
   ]
  },
  {
   "cell_type": "code",
   "execution_count": 21,
   "id": "ba3fb650",
   "metadata": {},
   "outputs": [
    {
     "name": "stdout",
     "output_type": "stream",
     "text": [
      "[[ 0  1  2]\n",
      " [ 3  4  5]\n",
      " [ 6  7  8]\n",
      " [ 9 10 11]]\n",
      "(4,) (12, 4)\n"
     ]
    }
   ],
   "source": [
    "# reshape\n",
    "# affect the array structure, not the data\n",
    "\n",
    "a = np.arange(12)\n",
    "b = a.reshape(4, 3)     # 2d array\n",
    "print(b)\n",
    "print(a.strides, b.strides)"
   ]
  },
  {
   "cell_type": "code",
   "execution_count": 22,
   "id": "2bff5899",
   "metadata": {},
   "outputs": [
    {
     "name": "stdout",
     "output_type": "stream",
     "text": [
      "[[[ 0  1  2  3]\n",
      "  [ 4  5  6  7]\n",
      "  [ 8  9 10 11]]\n",
      "\n",
      " [[12 13 14 15]\n",
      "  [16 17 18 19]\n",
      "  [20 21 22 23]]]\n"
     ]
    }
   ],
   "source": [
    "c = np.arange(24).reshape(2, 3, 4)  # 3d array\n",
    "print(c)"
   ]
  },
  {
   "cell_type": "code",
   "execution_count": 23,
   "id": "bbee335b",
   "metadata": {},
   "outputs": [],
   "source": [
    "# Basic Operations\n",
    "# Arithmetic operators on arrays apply elementwise. \n",
    "# A new array is created and filled with the result."
   ]
  },
  {
   "cell_type": "code",
   "execution_count": 24,
   "id": "4ec70186",
   "metadata": {},
   "outputs": [
    {
     "name": "stdout",
     "output_type": "stream",
     "text": [
      "[20 30 40 50]\n",
      "[0 1 2 3]\n",
      "[20 29 38 47]\n"
     ]
    }
   ],
   "source": [
    "a = np.array([20, 30, 40, 50])\n",
    "b = np.arange(4)\n",
    "c = a - b\n",
    "print(a)\n",
    "print(b)\n",
    "print(c)"
   ]
  },
  {
   "cell_type": "code",
   "execution_count": 25,
   "id": "980abc3a",
   "metadata": {},
   "outputs": [
    {
     "data": {
      "text/plain": [
       "array([0, 1, 4, 9])"
      ]
     },
     "execution_count": 25,
     "metadata": {},
     "output_type": "execute_result"
    }
   ],
   "source": [
    "b ** 2"
   ]
  },
  {
   "cell_type": "code",
   "execution_count": 26,
   "id": "42768bbf",
   "metadata": {},
   "outputs": [
    {
     "data": {
      "text/plain": [
       "array([ True,  True, False, False])"
      ]
     },
     "execution_count": 26,
     "metadata": {},
     "output_type": "execute_result"
    }
   ],
   "source": [
    "a < 35"
   ]
  },
  {
   "cell_type": "code",
   "execution_count": 27,
   "id": "87ec557f",
   "metadata": {},
   "outputs": [
    {
     "data": {
      "text/plain": [
       "array([100, 150, 200, 250])"
      ]
     },
     "execution_count": 27,
     "metadata": {},
     "output_type": "execute_result"
    }
   ],
   "source": [
    "5 * a"
   ]
  },
  {
   "cell_type": "code",
   "execution_count": 28,
   "id": "ca2bf3aa",
   "metadata": {},
   "outputs": [
    {
     "data": {
      "text/plain": [
       "array([[2, 0],\n",
       "       [0, 4]])"
      ]
     },
     "execution_count": 28,
     "metadata": {},
     "output_type": "execute_result"
    }
   ],
   "source": [
    "# matrix product can be performed using \n",
    "# the @ operator (in python >=3.5) or the dot function or method\n",
    "\n",
    "A = np.array([[1, 1],\n",
    "              [0, 1]])\n",
    "\n",
    "B = np.array([[2, 0],\n",
    "              [3, 4]])\n",
    "\n",
    "A * B     # elementwise product"
   ]
  },
  {
   "cell_type": "code",
   "execution_count": 29,
   "id": "856a7fe1",
   "metadata": {},
   "outputs": [
    {
     "data": {
      "text/plain": [
       "array([[5, 4],\n",
       "       [3, 4]])"
      ]
     },
     "execution_count": 29,
     "metadata": {},
     "output_type": "execute_result"
    }
   ],
   "source": [
    "A @ B     # matrix product"
   ]
  },
  {
   "cell_type": "code",
   "execution_count": 30,
   "id": "28cf97fd",
   "metadata": {},
   "outputs": [
    {
     "data": {
      "text/plain": [
       "array([[5, 4],\n",
       "       [3, 4]])"
      ]
     },
     "execution_count": 30,
     "metadata": {},
     "output_type": "execute_result"
    }
   ],
   "source": [
    "A.dot(B)  # matrix product"
   ]
  },
  {
   "cell_type": "code",
   "execution_count": 31,
   "id": "12cfb224",
   "metadata": {},
   "outputs": [
    {
     "name": "stdout",
     "output_type": "stream",
     "text": [
      "a: [  0   1   8  27  64 125 216 343 512 729]\n",
      "\n",
      "a[2]: 8\n",
      "\n",
      "a[2:5]: [ 8 27 64]\n",
      "\n",
      "[1000    1 1000   27 1000  125  216  343  512  729]\n",
      "\n",
      "Reversed: [ 729  512  343  216  125 1000   27 1000    1 1000]\n"
     ]
    }
   ],
   "source": [
    "# Indexing and Slicing\n",
    "# 1-d arrays can be indexed and sliced much like lists and other Python sequences\n",
    "\n",
    "a = np.arange(10)**3\n",
    "\n",
    "print(f\"a: {a}\\n\")  # [  0,   1,   8,  27,  64, 125, 216, 343, 512, 729]\n",
    "\n",
    "print(f\"a[2]: {a[2]}\\n\")    # 8\n",
    "\n",
    "print(f\"a[2:5]: {a[2:5]}\\n\")  # [ 8, 27, 64]\n",
    "\n",
    "# from start to position 6, exclusive, set every 2nd element to 1000\n",
    "a[:6:2] = 1000\n",
    "print(f\"{a}\\n\")     # [1000, 1, 1000, 27, 1000, 125, 216, 343, 512, 729]\n",
    "\n",
    "print(\"Reversed:\", a[::-1])  # reversed a\n",
    "            # [ 729, 512, 343, 216, 125, 1000, 27, 1000, 1, 1000]"
   ]
  },
  {
   "cell_type": "code",
   "execution_count": 32,
   "id": "2bee1a6c",
   "metadata": {},
   "outputs": [
    {
     "name": "stdout",
     "output_type": "stream",
     "text": [
      "b:\n",
      "[[ 0  1  2  3]\n",
      " [10 11 12 13]\n",
      " [20 21 22 23]\n",
      " [30 31 32 33]\n",
      " [40 41 42 43]]\n",
      "\n",
      "b[2,3]:23\n",
      "\n",
      "b[0:5,1]:[ 1 11 21 31 41]\n",
      "\n",
      "b[1:3,:]:\n",
      "[[10 11 12 13]\n",
      " [20 21 22 23]]\n",
      "\n",
      "\n",
      "b[-1]: [40 41 42 43]\n"
     ]
    }
   ],
   "source": [
    "# Multidimensional arrays can have one index per axis. \n",
    "# These indices are given in a tuple separated by commas.\n",
    "\n",
    "def f(x, y):\n",
    "    return 10 * x + y\n",
    "\n",
    "b = np.fromfunction(f, (5, 4), dtype=int)\n",
    "\n",
    "print(f\"b:\\n{b}\")\n",
    "                # [[ 0,  1,  2,  3],\n",
    "                #  [10, 11, 12, 13],\n",
    "                #  [20, 21, 22, 23],\n",
    "                #  [30, 31, 32, 33],\n",
    "                #  [40, 41, 42, 43]]\n",
    "\n",
    "print(f\"\\nb[2,3]:{b[2, 3]}\\n\")   # 23\n",
    "\n",
    "print(f\"b[0:5,1]:{b[0:5, 1]}\\n\")  # each row in the second column of b\n",
    "                                # [ 1, 11, 21, 31, 41]\n",
    "# b[:, 1]    # equivalent to the previous example\n",
    "\n",
    "print(f\"b[1:3,:]:\\n{b[1:3,:]}\\n\")  # each column in the second and third row of b\n",
    "                                # [[10, 11, 12, 13],\n",
    "                                #  [20, 21, 22, 23]]\n",
    "        \n",
    "# When fewer indices are provided than the number of axes, \n",
    "# the missing indices are considered complete slices\n",
    "print(f\"\\nb[-1]: {b[-1]}\")   # the last row. Equivalent to b[-1, :]\n",
    "                          # [40, 41, 42, 43]\n",
    "    \n",
    "# The expression within brackets in b[i] is treated as \n",
    "# an i followed by as many instances of : as needed to \n",
    "# represent the remaining axes. "
   ]
  },
  {
   "cell_type": "code",
   "execution_count": null,
   "id": "518ad610",
   "metadata": {},
   "outputs": [],
   "source": [
    "''' Array copy and view\n",
    "\n",
    "The copy owns the data and any changes made to the copy \n",
    "will not affect original array, and any changes made \n",
    "to the original array will not affect the copy.\n",
    "\n",
    "The view does not own the data and any changes made \n",
    "to the view will affect the original array, \n",
    "and any changes made to the original array will affect the view.\n",
    "\n",
    "Every NumPy array has the attribute base that \n",
    "returns None if the array owns the data.\n",
    "Otherwise, the base attribute refers to the original object.\n",
    "\n",
    "'''"
   ]
  },
  {
   "cell_type": "code",
   "execution_count": 33,
   "id": "d3790471",
   "metadata": {},
   "outputs": [
    {
     "name": "stdout",
     "output_type": "stream",
     "text": [
      "Array:  [11  2  3  4  5]\n",
      "Copy:  [ 1  2  3  4 55]\n",
      "None\n"
     ]
    }
   ],
   "source": [
    "# Copy\n",
    "\n",
    "arr = np.array([1, 2, 3, 4, 5])\n",
    "x = arr.copy()\n",
    "\n",
    "arr[0] = 11\n",
    "x[4] = 55\n",
    "\n",
    "print(\"Array: \", arr)  # changes made to the copy NOT affect original array\n",
    "print(\"Copy: \", x) # changes made to the original array NOT affect the copy\n",
    "\n",
    "print(x.base)"
   ]
  },
  {
   "cell_type": "code",
   "execution_count": 34,
   "id": "1763ef52",
   "metadata": {},
   "outputs": [
    {
     "name": "stdout",
     "output_type": "stream",
     "text": [
      "Array:  [11  2  3  4 55]\n",
      "View:  [11  2  3  4 55]\n",
      "[11  2  3  4 55]\n"
     ]
    }
   ],
   "source": [
    "# View\n",
    "\n",
    "arr = np.array([1, 2, 3, 4, 5])\n",
    "x = arr.view()\n",
    "\n",
    "arr[0] = 11\n",
    "x[4] = 55\n",
    "\n",
    "print(\"Array: \", arr)  # changes made to the copy affect original array\n",
    "print(\"View: \", x) # changes made to the original array affect the copy\n",
    "\n",
    "print(x.base)"
   ]
  },
  {
   "cell_type": "code",
   "execution_count": null,
   "id": "27ac6f6a",
   "metadata": {},
   "outputs": [],
   "source": [
    "'''Slice indexing of a list copies the elements into a new list, \n",
    "but slicing an array returns a view: an object that refers to \n",
    "the data in the original array. The original array can be mutated \n",
    "using the view.\n",
    "'''"
   ]
  },
  {
   "cell_type": "code",
   "execution_count": 35,
   "id": "abb193f7",
   "metadata": {},
   "outputs": [],
   "source": [
    "# Fancy indexing - two types (i) integer and (ii) boolean\n",
    "# Fancy indexing returns a copy of the data\n",
    "# whereas basic slicing returns a view"
   ]
  },
  {
   "cell_type": "code",
   "execution_count": 36,
   "id": "0c1ed244",
   "metadata": {},
   "outputs": [
    {
     "name": "stdout",
     "output_type": "stream",
     "text": [
      "[ 0 10 20 30 40 50 60 70 80 90]\n",
      "[20 50 70]\n"
     ]
    }
   ],
   "source": [
    "a = np.arange(0, 100, 10)\n",
    "print(a)\n",
    "\n",
    "indices = np.array([2, 5, -3])\n",
    "b = a[indices]\n",
    "print(b)"
   ]
  },
  {
   "cell_type": "code",
   "execution_count": 37,
   "id": "5fd3d973",
   "metadata": {},
   "outputs": [
    {
     "name": "stdout",
     "output_type": "stream",
     "text": [
      "[  0  10 999  30  40 999  60 999  80  90]\n"
     ]
    }
   ],
   "source": [
    "a[indices] = 999\n",
    "print(a)"
   ]
  },
  {
   "cell_type": "code",
   "execution_count": 38,
   "id": "756d7d08",
   "metadata": {},
   "outputs": [
    {
     "name": "stdout",
     "output_type": "stream",
     "text": [
      "[False False  True False False  True False  True False False]\n",
      "[999 999 999]\n"
     ]
    }
   ],
   "source": [
    "mask = np.array([0, 0, 1, 0, 0, 1, 0, 1, 0, 0], dtype=bool)\n",
    "print(mask)\n",
    "\n",
    "b = a[mask]\n",
    "print(b)"
   ]
  },
  {
   "cell_type": "code",
   "execution_count": 39,
   "id": "b4fc58da",
   "metadata": {},
   "outputs": [
    {
     "name": "stdout",
     "output_type": "stream",
     "text": [
      "[[ 0  1  2  3  4  5]\n",
      " [ 6  7  8  9 10 11]\n",
      " [12 13 14 15 16 17]\n",
      " [18 19 20 21 22 23]]\n",
      "[ 2 16 21]\n"
     ]
    }
   ],
   "source": [
    "a = np.arange(24).reshape(4,6)\n",
    "print(a)\n",
    "\n",
    "print(a[[0, 2, 3],[2, 4, 3]]) "
   ]
  },
  {
   "cell_type": "code",
   "execution_count": 40,
   "id": "c8e8a666",
   "metadata": {},
   "outputs": [
    {
     "data": {
      "text/plain": [
       "array([[ 6,  8, 11],\n",
       "       [12, 14, 17],\n",
       "       [18, 20, 23]])"
      ]
     },
     "execution_count": 40,
     "metadata": {},
     "output_type": "execute_result"
    }
   ],
   "source": [
    "a[1:, [0,2,5]]"
   ]
  },
  {
   "cell_type": "code",
   "execution_count": 41,
   "id": "ebd625bb",
   "metadata": {},
   "outputs": [
    {
     "data": {
      "text/plain": [
       "array([ 3, 15, 21])"
      ]
     },
     "execution_count": 41,
     "metadata": {},
     "output_type": "execute_result"
    }
   ],
   "source": [
    "mask = np.array([1, 0, 1, 1], dtype=bool)\n",
    "a[mask,3]"
   ]
  },
  {
   "cell_type": "code",
   "execution_count": 42,
   "id": "58607d6d",
   "metadata": {},
   "outputs": [
    {
     "data": {
      "text/plain": [
       "array([16, 17, 18, 19, 20, 21, 22, 23])"
      ]
     },
     "execution_count": 42,
     "metadata": {},
     "output_type": "execute_result"
    }
   ],
   "source": [
    "mask = a > 15\n",
    "a[mask]"
   ]
  }
 ],
 "metadata": {
  "kernelspec": {
   "display_name": "Python 3 (ipykernel)",
   "language": "python",
   "name": "python3"
  },
  "language_info": {
   "codemirror_mode": {
    "name": "ipython",
    "version": 3
   },
   "file_extension": ".py",
   "mimetype": "text/x-python",
   "name": "python",
   "nbconvert_exporter": "python",
   "pygments_lexer": "ipython3",
   "version": "3.11.4"
  }
 },
 "nbformat": 4,
 "nbformat_minor": 5
}
