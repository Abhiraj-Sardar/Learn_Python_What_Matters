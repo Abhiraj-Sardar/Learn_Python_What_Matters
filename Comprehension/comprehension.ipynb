{
 "cells": [
  {
   "cell_type": "code",
   "execution_count": null,
   "id": "02058791",
   "metadata": {},
   "outputs": [],
   "source": [
    "# list comprehension\n",
    "# concise way to create lists\n",
    "# creates new lists where each element is the result of some operations \n",
    "# applied to each member of another sequence or iterable, or\n",
    "# create a subsequence of those elements that satisfy a certain condition.\n",
    "\n",
    "# newlist = [expression for item in iterable (if condition)]"
   ]
  },
  {
   "cell_type": "code",
   "execution_count": null,
   "id": "94a53120",
   "metadata": {},
   "outputs": [],
   "source": [
    "'''for beginners its easier to think in terms of for loop.\n",
    "To generate a new list with only square of positive integers \n",
    "from a given list of integers the for loop may be\n",
    "\n",
    "nums = [2,-3,4,-5]\n",
    "newList = []\n",
    "for x in nums:\n",
    "    if x > 0:\n",
    "        newList.append(x**2)\n",
    "\n",
    "With list comprehension\n",
    "newList = [x**2 for x in nums if x > 0]\n",
    "'''"
   ]
  },
  {
   "cell_type": "code",
   "execution_count": 1,
   "id": "cccba44e",
   "metadata": {},
   "outputs": [
    {
     "name": "stdout",
     "output_type": "stream",
     "text": [
      "myList: ['42', '65', '12'], myListInt: [42, 65, 12]\n"
     ]
    }
   ],
   "source": [
    "# create a list whose elements are integers from a list whose elements are integers represented as strings\n",
    "\n",
    "myList = ['42', '65', '12']\n",
    "\n",
    "myListInt = [int(x) for x in myList]\n",
    "\n",
    "print(f\"myList: {myList}, myListInt: {myListInt}\")"
   ]
  },
  {
   "cell_type": "code",
   "execution_count": 2,
   "id": "31cabb55",
   "metadata": {},
   "outputs": [
    {
     "name": "stdout",
     "output_type": "stream",
     "text": [
      "[0, 1, 2, 3, 4, 5, 6, 7, 8, 9]\n"
     ]
    }
   ],
   "source": [
    "newList = [x for x in range(10)]\n",
    "print(newList)"
   ]
  },
  {
   "cell_type": "code",
   "execution_count": 3,
   "id": "b7ebdb9a",
   "metadata": {},
   "outputs": [
    {
     "name": "stdout",
     "output_type": "stream",
     "text": [
      "[1, 4, 9, 16, 25, 36, 49, 64, 81, 100]\n"
     ]
    }
   ],
   "source": [
    "# create a list whose elements are the squares of the numbers from 1 to 10\n",
    "# Roll: 10 \n",
    "newList = [x**2 for x in range(1,11)]\n",
    "print(newList)"
   ]
  },
  {
   "cell_type": "code",
   "execution_count": 4,
   "id": "00f365f4",
   "metadata": {},
   "outputs": [
    {
     "name": "stdout",
     "output_type": "stream",
     "text": [
      "[-8, -4, 0, 4, 8]\n"
     ]
    }
   ],
   "source": [
    "# create a new list whose values are double the elements of the given list\n",
    "# Roll: 37\n",
    "vec = [-4, -2, 0, 2, 4]\n",
    "newVec = [x*2 for x in vec]\n",
    "print(newVec)"
   ]
  },
  {
   "cell_type": "code",
   "execution_count": 5,
   "id": "fbf8b3fc",
   "metadata": {},
   "outputs": [
    {
     "name": "stdout",
     "output_type": "stream",
     "text": [
      "[4, 2, 0, 2, 4]\n"
     ]
    }
   ],
   "source": [
    "# create a new list whose values are the absolute values of the given list\n",
    "# Roll: 39\n",
    "vec = [-4, -2, 0, 2, 4]\n",
    "newVec = [abs(x) for x in vec]\n",
    "print(newVec)"
   ]
  },
  {
   "cell_type": "code",
   "execution_count": 6,
   "id": "ebccdceb",
   "metadata": {},
   "outputs": [
    {
     "name": "stdout",
     "output_type": "stream",
     "text": [
      "[(1, 1), (2, 4), (3, 9), (4, 16), (5, 25)]\n"
     ]
    }
   ],
   "source": [
    "# create a list of 2-tuples like (number, square) \n",
    "# for numbers ranging from 1 to 5\n",
    "# Roll: 38\n",
    "newList = [(x,x*x) for x in range(1,6)]\n",
    "print(newList)"
   ]
  },
  {
   "cell_type": "code",
   "execution_count": 7,
   "id": "74725b74",
   "metadata": {},
   "outputs": [
    {
     "name": "stdout",
     "output_type": "stream",
     "text": [
      "[1, 3, 5, 7, 9]\n"
     ]
    }
   ],
   "source": [
    "# create a list by filtering out the even numbers \n",
    "# from the range 0 to 9\n",
    "\n",
    "newList = [x for x in range(10) if x % 2]\n",
    "print(newList)"
   ]
  },
  {
   "cell_type": "code",
   "execution_count": 8,
   "id": "f7995aec",
   "metadata": {},
   "outputs": [
    {
     "name": "stdout",
     "output_type": "stream",
     "text": [
      "[0, 2, 4]\n"
     ]
    }
   ],
   "source": [
    "# create a list by filtering out the negative numbers \n",
    "# from the given list\n",
    "# Roll: 27\n",
    "vec = [-4, -2, 0, 2, 4]\n",
    "newVec = [x for x in vec if x >= 0] \n",
    "print(newVec)"
   ]
  },
  {
   "cell_type": "code",
   "execution_count": 9,
   "id": "f2de899e",
   "metadata": {},
   "outputs": [
    {
     "name": "stdout",
     "output_type": "stream",
     "text": [
      "[4, 16, 25]\n"
     ]
    }
   ],
   "source": [
    "# create a list by squaring the positive numbers \n",
    "# from the given list\n",
    "# Roll: 24\n",
    "vec = [-4, -2, 0, 2, 4, 5]\n",
    "newVec = [x*x for x in vec if x > 0]\n",
    "print(newVec)"
   ]
  },
  {
   "cell_type": "code",
   "execution_count": 10,
   "id": "62e55a66",
   "metadata": {},
   "outputs": [
    {
     "name": "stdout",
     "output_type": "stream",
     "text": [
      "[0, 1, 0, 9, 0, 25, 0, 49, 0, 81]\n"
     ]
    }
   ],
   "source": [
    "# create a list for numbers ranging from 1 to 10, \n",
    "# which contains square of the number if the number is odd \n",
    "# and 0 otherwise\n",
    "\n",
    "newList = [i*i if i % 2 else 0 for i in range(10)]\n",
    "print(newList)"
   ]
  },
  {
   "cell_type": "code",
   "execution_count": 11,
   "id": "106473cd",
   "metadata": {},
   "outputs": [
    {
     "name": "stdout",
     "output_type": "stream",
     "text": [
      "[(22, 44), (22, 55), (33, 44), (33, 55), (44, 55)]\n"
     ]
    }
   ],
   "source": [
    "# Combine the elements of two lists if they are not equal into a list of tuples\n",
    "# with for loops\n",
    "list1 = [22,33,44]\n",
    "list2 = [44,55]\n",
    "newList = []\n",
    "for x in list1:\n",
    "    for y in list2:\n",
    "        if x != y:\n",
    "            newList.append((x,y))\n",
    "print(newList)"
   ]
  },
  {
   "cell_type": "code",
   "execution_count": 13,
   "id": "e14e5537",
   "metadata": {},
   "outputs": [
    {
     "name": "stdout",
     "output_type": "stream",
     "text": [
      "[(22, 44), (22, 55), (33, 44), (33, 55), (44, 55)]\n"
     ]
    }
   ],
   "source": [
    "# Combine the elements of two lists if they are not equal into a list of tuples\n",
    "\n",
    "list1 = [22,33,44]\n",
    "list2 = [44,55]\n",
    "newList = [(x,y) for x in list1 for y in list2 if x != y]\n",
    "print(newList)"
   ]
  },
  {
   "cell_type": "code",
   "execution_count": 14,
   "id": "15fa7a72",
   "metadata": {},
   "outputs": [
    {
     "name": "stdout",
     "output_type": "stream",
     "text": [
      "[1, 2, 3, 4, 5, 6, 7, 8, 9]\n"
     ]
    }
   ],
   "source": [
    "# flatten a list of lists i.e a list whose elements are list of numbers\n",
    "\n",
    "vec = [[1,2,3],[4,5,6],[7,8,9]]\n",
    "newVec = [num for element in vec for num in element]\n",
    "print(newVec)"
   ]
  },
  {
   "cell_type": "code",
   "execution_count": 15,
   "id": "cc87b4f4",
   "metadata": {},
   "outputs": [
    {
     "name": "stdout",
     "output_type": "stream",
     "text": [
      "[[1, 2, 3, 4], [5, 6, 7, 8], [9, 10, 11, 12]]\n"
     ]
    }
   ],
   "source": [
    "# Nested List Comprehension\n",
    "# The initial expression in a list comprehension can be \n",
    "# any arbitrary expression, including another list comprehension.\n",
    "\n",
    "# Consider the following example of a 3x4 matrix implemented as a list of 3 lists of length 4\n",
    "matrix = [\n",
    "            [1, 2, 3, 4],\n",
    "            [5, 6, 7, 8],\n",
    "            [9, 10, 11, 12],\n",
    "        ]\n",
    "print(matrix)"
   ]
  },
  {
   "cell_type": "code",
   "execution_count": 16,
   "id": "838e4df7",
   "metadata": {},
   "outputs": [
    {
     "name": "stdout",
     "output_type": "stream",
     "text": [
      "[[1, 5, 9], [2, 6, 10], [3, 7, 11], [4, 8, 12]]\n"
     ]
    }
   ],
   "source": [
    "# to get the transpose with for loops\n",
    "transposed = []\n",
    "for i in range(4):\n",
    "        # the following 3 lines implement the nested list comprehension\n",
    "        transposedRow = []\n",
    "        for row in matrix:\n",
    "            transposedRow.append(row[i])\n",
    "        transposed.append(transposedRow)\n",
    "print(transposed)"
   ]
  },
  {
   "cell_type": "code",
   "execution_count": 17,
   "id": "155f8306",
   "metadata": {},
   "outputs": [
    {
     "name": "stdout",
     "output_type": "stream",
     "text": [
      "[[1, 5, 9], [2, 6, 10], [3, 7, 11], [4, 8, 12]]\n"
     ]
    }
   ],
   "source": [
    "transposed = []\n",
    "for i in range(4):\n",
    "    transposed.append([row[i] for row in matrix])\n",
    "print(transposed)"
   ]
  },
  {
   "cell_type": "code",
   "execution_count": 18,
   "id": "547e8b2e",
   "metadata": {},
   "outputs": [
    {
     "name": "stdout",
     "output_type": "stream",
     "text": [
      "[[1, 5, 9], [2, 6, 10], [3, 7, 11], [4, 8, 12]]\n"
     ]
    }
   ],
   "source": [
    "# with nested list comprehension\n",
    "\n",
    "transposed = [[row[i] for row in matrix] for i in range(4)]\n",
    "print(transposed)"
   ]
  },
  {
   "cell_type": "code",
   "execution_count": 19,
   "id": "8a98d0b7",
   "metadata": {},
   "outputs": [
    {
     "name": "stdout",
     "output_type": "stream",
     "text": [
      "{2: 4, 4: 16, 6: 36}\n"
     ]
    }
   ],
   "source": [
    "# dictionary comprehensions can be used to create dictionaries \n",
    "# from arbitrary key and value expressions\n",
    "\n",
    "squareD = {x:x**2 for x in (2, 4, 6)}\n",
    "print(squareD)"
   ]
  },
  {
   "cell_type": "code",
   "execution_count": 20,
   "id": "20a8a19b",
   "metadata": {},
   "outputs": [
    {
     "name": "stdout",
     "output_type": "stream",
     "text": [
      "{'r', 'd'}\n"
     ]
    }
   ],
   "source": [
    "# set comprehension\n",
    "\n",
    "newSet = {x for x in 'abracadabra' if x not in 'abc'}\n",
    "print(newSet)"
   ]
  }
 ],
 "metadata": {
  "kernelspec": {
   "display_name": "Python 3 (ipykernel)",
   "language": "python",
   "name": "python3"
  },
  "language_info": {
   "codemirror_mode": {
    "name": "ipython",
    "version": 3
   },
   "file_extension": ".py",
   "mimetype": "text/x-python",
   "name": "python",
   "nbconvert_exporter": "python",
   "pygments_lexer": "ipython3",
   "version": "3.11.4"
  }
 },
 "nbformat": 4,
 "nbformat_minor": 5
}
